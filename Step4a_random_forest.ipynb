{
 "cells": [
  {
   "cell_type": "code",
   "execution_count": 58,
   "metadata": {
    "collapsed": true
   },
   "outputs": [],
   "source": [
    "import pickle\n",
    "\n",
    "X_chair = pickle.load(open(\"X_chair.p\",\"rb\"))\n",
    "Y_chair = pickle.load(open(\"Y_chair.p\",\"rb\"))\n",
    "X_chair_median = pickle.load(open(\"X_median_chair.p\",\"rb\"))\n",
    "Y_chair_median = pickle.load(open(\"Y_median_chair.p\",\"rb\"))\n",
    "X_chair_mean = pickle.load(open(\"X_mean_chair.p\",\"rb\"))\n",
    "Y_chair_mean = pickle.load(open(\"Y_mean_chair.p\",\"rb\"))\n",
    "\n",
    "X_Neck = pickle.load(open(\"X_Neck.p\",\"rb\"))\n",
    "Y_Neck = pickle.load(open(\"Y_Neck.p\",\"rb\"))\n",
    "X_Neck_median = pickle.load(open(\"X_median_Neck.p\",\"rb\"))\n",
    "Y_Neck_median = pickle.load(open(\"Y_median_Neck.p\",\"rb\"))\n",
    "X_Neck_mean = pickle.load(open(\"X_mean_Neck.p\",\"rb\"))\n",
    "Y_Neck_mean = pickle.load(open(\"Y_mean_Neck.p\",\"rb\"))\n"
   ]
  },
  {
   "cell_type": "code",
   "execution_count": 36,
   "metadata": {
    "collapsed": true
   },
   "outputs": [],
   "source": [
    "import numpy as np\n",
    "import pandas as pd\n",
    "from sklearn import tree\n",
    "from sklearn.model_selection import KFold\n",
    "import matplotlib.pyplot as plt\n",
    "from sklearn.tree import DecisionTreeClassifier\n",
    "from sklearn.model_selection import cross_val_score\n",
    "from sklearn.ensemble import RandomForestClassifier\n",
    "from sklearn.model_selection import GridSearchCV\n",
    "import random"
   ]
  },
  {
   "cell_type": "code",
   "execution_count": 37,
   "metadata": {
    "scrolled": true
   },
   "outputs": [
    {
     "name": "stdout",
     "output_type": "stream",
     "text": [
      "0.699612588528\n",
      "  \n",
      "  \n",
      "{'criterion': 'gini', 'max_depth': 8, 'max_features': 5, 'n_estimators': 18}\n",
      "[ 0.0743205   0.03353171  0.05292721  0.04779314  0.5951061   0.19632133]\n"
     ]
    }
   ],
   "source": [
    "#Classifying all chair data with [Aravind, Isabella, Kim, Lobna, Thomas, Anand, Vasu]\n",
    "\n",
    "#Define Dataset\n",
    "X = np.array(X_chair)\n",
    "Y = np.array(Y_chair)\n",
    "\n",
    "#Define parameters to optimize\n",
    "tuned_parameters = [{'n_estimators':[6,8,10,12,14,16,18],'criterion': ['gini','entropy'],\n",
    "                     'max_features':[1,2,3,4,5,6], 'max_depth': [5,6,7,8,9,10]}]\n",
    "                     #'class_weight': ['balanced',None], 'bootstrap':[True,False], 'warm_start':[True,False],\n",
    "                     #'oob_score':[True,False], 'verbose':[0,1,2]}]\n",
    "\n",
    "#Set the Classifier fit and tune parameters\n",
    "rfc = RandomForestClassifier()\n",
    "clf = GridSearchCV(rfc,tuned_parameters)\n",
    "clf.fit(X, Y)\n",
    "\n",
    "BP = clf.best_params_\n",
    "\n",
    "#K-fold cross validation with the optimized parameters\n",
    "for k in range(20,21):\n",
    "    clf1 = RandomForestClassifier(n_estimators=BP['n_estimators'],\n",
    "                                  criterion=BP['criterion'],\n",
    "                                  max_depth=BP['max_depth'],\n",
    "                                  max_features=BP['max_features'],\n",
    "                                  #class_weight=BP['class_weight'],\n",
    "                                  #bootstrap=BP['bootstrap'],\n",
    "                                  #warm_start=BP['warm_start'],\n",
    "                                  #oob_score=BP['oob_score'],\n",
    "                                  #verbose=BP['verbose'],\n",
    "                                  n_jobs=-1)\n",
    "    kf = KFold(n_splits=k)\n",
    "#     kf_scores = [clf1.fit(X[train], Y[train]).score(X[test], Y[test]) for train, test in kf.split(X)]\n",
    "    sc = []\n",
    "    \n",
    "    for it in range(5):\n",
    "        combined = list(zip(X, Y))\n",
    "        random.shuffle(combined)\n",
    "\n",
    "        X_shuffled, Y_shuffled = zip(*combined)\n",
    "        X_shuffled = np.array(X_shuffled)\n",
    "        Y_shuffled = np.array(Y_shuffled)\n",
    "        kf_scores = [clf1.fit(X_shuffled[train], Y_shuffled[train]).score(X_shuffled[test], Y_shuffled[test]) for train, test in kf.split(X)]\n",
    "        kf_scores_mean = np.mean(kf_scores)\n",
    "        sc.append(kf_scores_mean)\n",
    "    \n",
    "    \n",
    "#     print('K = '+str(k+2))\n",
    "#     print('KF_scores_array')\n",
    "#     print(kf_scores)\n",
    "#     print('  ')\n",
    "#     print('KF_scores_mean')\n",
    "    print(np.mean(sc))\n",
    "    print('  ')\n",
    "    print('  ')\n",
    "\n",
    "print(BP)\n",
    "print(clf1.feature_importances_)"
   ]
  },
  {
   "cell_type": "code",
   "execution_count": 38,
   "metadata": {},
   "outputs": [
    {
     "name": "stdout",
     "output_type": "stream",
     "text": [
      "[[513  12  34 107 186   0   0]\n",
      " [  8 560  49  11  18   0   0]\n",
      " [ 22  13 140  19  15   0   0]\n",
      " [ 60   0  28 426  43   0   0]\n",
      " [ 43   6  27  26 205   0   0]\n",
      " [  0   0   0   0   0 334  11]\n",
      " [  0   0   0   0   1 274 943]]\n"
     ]
    },
    {
     "data": {
      "image/png": "[encoded data removed]",
      "text/plain": [
       "<matplotlib.figure.Figure at 0x111f6a550>"
      ]
     },
     "metadata": {},
     "output_type": "display_data"
    }
   ],
   "source": [
    "from sklearn.metrics import confusion_matrix\n",
    "import seaborn as sn\n",
    "import pandas as pd\n",
    "\n",
    "# Compute confusion matrix\n",
    "cnf_matrix = confusion_matrix(clf1.fit(X, Y).predict(X), Y)\n",
    "print(cnf_matrix)\n",
    "\n",
    "# Plot confusion matrix\n",
    "df_cm = pd.DataFrame(cnf_matrix, index = [i for i in \"ABCDEFG\"],\n",
    "                  columns = [i for i in \"ABCDEFG\"])\n",
    "plt.figure(figsize = (9,7))\n",
    "sn.heatmap(df_cm, annot=True)\n",
    "plt.ylabel('True label')\n",
    "plt.xlabel('Predicted label')\n",
    "plt.show()\n"
   ]
  },
  {
   "cell_type": "code",
   "execution_count": 65,
   "metadata": {
    "scrolled": true
   },
   "outputs": [
    {
     "name": "stdout",
     "output_type": "stream",
     "text": [
      "0.86\n",
      "  \n",
      "  \n",
      "[ 0.17250575  0.10097101  0.16043762  0.20170387  0.13602235  0.2283594 ]\n"
     ]
    }
   ],
   "source": [
    "#Classifying mean chair data with [Aravind, Isabella, Kim, Lobna, Thomas, Anand, Vasu]\n",
    "\n",
    "#Define Dataset\n",
    "X = np.array(X_chair_mean)\n",
    "Y = np.array(Y_chair_mean)\n",
    "\n",
    "#Define parameters to optimize\n",
    "tuned_parameters = [{'n_estimators':[6,8,10,12,14,16,18],'criterion': ['gini','entropy'],\n",
    "                     'max_features':[1,2,3,4,5,6], 'max_depth': [5,6,7,8,9,10]}]\n",
    "                     #'class_weight': ['balanced',None], 'bootstrap':[True,False], 'warm_start':[True,False],\n",
    "                     #'oob_score':[True,False], 'verbose':[0,1,2]}]\n",
    "\n",
    "#Set the Classifier fit and tune parameters\n",
    "rfc = RandomForestClassifier()\n",
    "clf = GridSearchCV(rfc,tuned_parameters)\n",
    "clf.fit(X, Y)\n",
    "\n",
    "BP = clf.best_params_\n",
    "\n",
    "#K-fold cross validation with the optimized parameters\n",
    "for k in range(20,21):\n",
    "    clf1 = RandomForestClassifier(n_estimators=BP['n_estimators'],\n",
    "                                  criterion=BP['criterion'],\n",
    "                                  max_depth=BP['max_depth'],\n",
    "                                  max_features=BP['max_features'],\n",
    "                                  #class_weight=BP['class_weight'],\n",
    "                                  #bootstrap=BP['bootstrap'],\n",
    "                                  #warm_start=BP['warm_start'],\n",
    "                                  #oob_score=BP['oob_score'],\n",
    "                                  #verbose=BP['verbose'],\n",
    "                                  n_jobs=-1)\n",
    "\n",
    "    kf = KFold(n_splits=k)\n",
    "#     kf_scores = [clf1.fit(X[train], Y[train]).score(X[test], Y[test]) for train, test in kf.split(X)]\n",
    "    sc = []\n",
    "    for it in range(5):\n",
    "        combined = list(zip(X, Y))\n",
    "        random.shuffle(combined)\n",
    "\n",
    "        X_shuffled, Y_shuffled = zip(*combined)\n",
    "        X_shuffled = np.array(X_shuffled)\n",
    "        Y_shuffled = np.array(Y_shuffled)\n",
    "        kf_scores = [clf1.fit(X_shuffled[train], Y_shuffled[train]).score(X_shuffled[test], Y_shuffled[test]) for train, test in kf.split(X)]\n",
    "        kf_scores_mean = np.mean(kf_scores)\n",
    "        sc.append(kf_scores_mean)\n",
    "    \n",
    "    \n",
    "#     print('K = '+str(k+2))\n",
    "#     print('KF_scores_array')\n",
    "#     print(kf_scores)\n",
    "#     print('  ')\n",
    "#     print('KF_scores_mean')\n",
    "    print(np.mean(sc))\n",
    "    print('  ')\n",
    "    print('  ')\n",
    "\n",
    "# print(BP)\n",
    "print(clf1.feature_importances_)"
   ]
  },
  {
   "cell_type": "code",
   "execution_count": 72,
   "metadata": {},
   "outputs": [
    {
     "name": "stdout",
     "output_type": "stream",
     "text": [
      "[[ 8  0  0  0  0  0  0]\n",
      " [ 0 10  0  0  0  0  0]\n",
      " [ 0  0  6  0  0  0  0]\n",
      " [ 0  0  0  8  0  0  0]\n",
      " [ 0  0  0  0  7  0  0]\n",
      " [ 0  0  0  0  0  9  0]\n",
      " [ 0  0  0  0  0  0 10]]\n"
     ]
    },
    {
     "data": {
      "image/png": "[encoded data removed]",
      "text/plain": [
       "<matplotlib.figure.Figure at 0x10e575d68>"
      ]
     },
     "metadata": {},
     "output_type": "display_data"
    }
   ],
   "source": [
    "from sklearn.metrics import confusion_matrix\n",
    "import seaborn as sn\n",
    "import pandas as pd\n",
    "\n",
    "# Compute confusion matrix\n",
    "cnf_matrix = confusion_matrix(clf1.fit(X, Y).predict(X), Y)\n",
    "print(cnf_matrix)\n",
    "\n",
    "# Plot confusion matrix\n",
    "df_cm = pd.DataFrame(cnf_matrix, index = [i for i in \"ABCDEFG\"],\n",
    "                  columns = [i for i in \"ABCDEFG\"])\n",
    "plt.figure(figsize = (9,7))\n",
    "sn.heatmap(df_cm, annot=True)\n",
    "plt.ylabel('True label')\n",
    "plt.xlabel('Predicted label')\n",
    "plt.show()\n"
   ]
  },
  {
   "cell_type": "code",
   "execution_count": 41,
   "metadata": {
    "scrolled": true
   },
   "outputs": [
    {
     "name": "stdout",
     "output_type": "stream",
     "text": [
      "0.79\n",
      "  \n",
      "  \n"
     ]
    }
   ],
   "source": [
    "#Classifying median chair data with [Aravind, Isabella, Kim, Lobna, Thomas, Anand, Vasu]\n",
    "\n",
    "#Define Dataset\n",
    "X = np.array(X_chair_median)\n",
    "Y = np.array(Y_chair_median)\n",
    "\n",
    "#Define parameters to optimize\n",
    "tuned_parameters = [{'n_estimators':[6,8,10,12,14,16,18,20],'criterion': ['gini','entropy'],\n",
    "                     'max_features':[1,2,3,4,5,6], 'max_depth': [5,6,7,8,9,10,11,12,13,None]}]\n",
    "                     #'class_weight': ['balanced',None], 'bootstrap':[True,False], 'warm_start':[True,False],\n",
    "                     #'oob_score':[True,False], 'verbose':[0,1,2]}]\n",
    "\n",
    "# #Set the Classifier fit and tune parameters\n",
    "# rfc = RandomForestClassifier()\n",
    "# clf = GridSearchCV(rfc,tuned_parameters)\n",
    "# clf.fit(X, Y)\n",
    "\n",
    "# BP = clf.best_params_\n",
    "\n",
    "#K-fold cross validation with the optimized parameters\n",
    "for k in range(20,21):\n",
    "    clf1 = RandomForestClassifier(n_estimators=BP['n_estimators'],\n",
    "                                  criterion=BP['criterion'],\n",
    "                                  max_depth=BP['max_depth'],\n",
    "                                  max_features=BP['max_features'],\n",
    "                                  #class_weight=BP['class_weight'],\n",
    "                                  #bootstrap=BP['bootstrap'],\n",
    "                                  #warm_start=BP['warm_start'],\n",
    "                                  #oob_score=BP['oob_score'],\n",
    "                                  #verbose=BP['verbose'],\n",
    "                                  n_jobs=-1)\n",
    "\n",
    "    kf = KFold(n_splits=k)\n",
    "#     kf_scores = [clf1.fit(X[train], Y[train]).score(X[test], Y[test]) for train, test in kf.split(X)]\n",
    "    sc = []\n",
    "    for it in range(5):\n",
    "        combined = list(zip(X, Y))\n",
    "        random.shuffle(combined)\n",
    "\n",
    "        X_shuffled, Y_shuffled = zip(*combined)\n",
    "        X_shuffled = np.array(X_shuffled)\n",
    "        Y_shuffled = np.array(Y_shuffled)\n",
    "        kf_scores = [clf1.fit(X_shuffled[train], Y_shuffled[train]).score(X_shuffled[test], Y_shuffled[test]) for train, test in kf.split(X)]\n",
    "        kf_scores_mean = np.mean(kf_scores)\n",
    "        sc.append(kf_scores_mean)\n",
    "    \n",
    "    \n",
    "#     print('K = '+str(k+2))\n",
    "#     print('KF_scores_array')\n",
    "#     print(kf_scores)\n",
    "#     print('  ')\n",
    "#     print('KF_scores_mean')\n",
    "    print(np.mean(sc))\n",
    "    print('  ')\n",
    "    print('  ')\n",
    "\n",
    "# print(BP)\n",
    "# print(clf1.feature_importances_)"
   ]
  },
  {
   "cell_type": "code",
   "execution_count": 42,
   "metadata": {},
   "outputs": [
    {
     "name": "stdout",
     "output_type": "stream",
     "text": [
      "[[ 8  0  0  0  0  0  0]\n",
      " [ 0 10  1  0  0  0  0]\n",
      " [ 0  0  5  0  0  0  0]\n",
      " [ 0  0  0  8  0  0  0]\n",
      " [ 0  0  0  0  7  0  0]\n",
      " [ 0  0  0  0  0  9  0]\n",
      " [ 0  0  0  0  0  0 10]]\n"
     ]
    },
    {
     "data": {
      "image/png": "[encoded data removed]",
      "text/plain": [
       "<matplotlib.figure.Figure at 0x1121727f0>"
      ]
     },
     "metadata": {},
     "output_type": "display_data"
    }
   ],
   "source": [
    "from sklearn.metrics import confusion_matrix\n",
    "import seaborn as sn\n",
    "import pandas as pd\n",
    "\n",
    "# Compute confusion matrix\n",
    "cnf_matrix = confusion_matrix(clf1.fit(X, Y).predict(X), Y)\n",
    "print(cnf_matrix)\n",
    "\n",
    "# Plot confusion matrix\n",
    "df_cm = pd.DataFrame(cnf_matrix, index = [i for i in \"ABCDEFG\"],\n",
    "                  columns = [i for i in \"ABCDEFG\"])\n",
    "plt.figure(figsize = (9,7))\n",
    "sn.heatmap(df_cm, annot=True)\n",
    "plt.ylabel('True label')\n",
    "plt.xlabel('Predicted label')\n",
    "plt.show()\n"
   ]
  },
  {
   "cell_type": "code",
   "execution_count": 43,
   "metadata": {
    "scrolled": true
   },
   "outputs": [
    {
     "name": "stdout",
     "output_type": "stream",
     "text": [
      "0.852081280788\n",
      "  \n",
      "  \n"
     ]
    }
   ],
   "source": [
    "#Classifying all neck chair data with [Aravind, Isabella, Kim, Lobna, Thomas, Anand, Vasu]\n",
    "\n",
    "#Define Dataset\n",
    "X = np.array(X_Neck)\n",
    "Y = np.array(Y_Neck)\n",
    "\n",
    "#Define parameters to optimize\n",
    "tuned_parameters = [{'n_estimators':[6,8,10,12,14,16,18,20],'criterion': ['gini','entropy'],\n",
    "                     'max_features':[1,2,3,4,5,6], 'max_depth': [5,6,7,8,9,10,11,12,13,None]}]\n",
    "                     #'class_weight': ['balanced',None], 'bootstrap':[True,False], 'warm_start':[True,False],\n",
    "                     #'oob_score':[True,False], 'verbose':[0,1,2]}]\n",
    "\n",
    "# #Set the Classifier fit and tune parameters\n",
    "# rfc = RandomForestClassifier()\n",
    "# clf = GridSearchCV(rfc,tuned_parameters)\n",
    "# clf.fit(X, Y)\n",
    "\n",
    "# BP = clf.best_params_\n",
    "\n",
    "#K-fold cross validation with the optimized parameters\n",
    "for k in range(20,21):\n",
    "    clf1 = RandomForestClassifier(n_estimators=BP['n_estimators'],\n",
    "                                  criterion=BP['criterion'],\n",
    "                                  max_depth=BP['max_depth'],\n",
    "                                  max_features=BP['max_features'],\n",
    "                                  #class_weight=BP['class_weight'],\n",
    "                                  #bootstrap=BP['bootstrap'],\n",
    "                                  #warm_start=BP['warm_start'],\n",
    "                                  #oob_score=BP['oob_score'],\n",
    "                                  #verbose=BP['verbose'],\n",
    "                                  n_jobs=-1)\n",
    "\n",
    "    kf = KFold(n_splits=k)\n",
    "#     kf_scores = [clf1.fit(X[train], Y[train]).score(X[test], Y[test]) for train, test in kf.split(X)]\n",
    "    sc = []\n",
    "    for it in range(5):\n",
    "        combined = list(zip(X, Y))\n",
    "        random.shuffle(combined)\n",
    "\n",
    "        X_shuffled, Y_shuffled = zip(*combined)\n",
    "        X_shuffled = np.array(X_shuffled)\n",
    "        Y_shuffled = np.array(Y_shuffled)\n",
    "        kf_scores = [clf1.fit(X_shuffled[train], Y_shuffled[train]).score(X_shuffled[test], Y_shuffled[test]) for train, test in kf.split(X)]\n",
    "        kf_scores_mean = np.mean(kf_scores)\n",
    "        sc.append(kf_scores_mean)\n",
    "    \n",
    "    \n",
    "#     print('K = '+str(k+2))\n",
    "#     print('KF_scores_array')\n",
    "#     print(kf_scores)\n",
    "#     print('  ')\n",
    "#     print('KF_scores_mean')\n",
    "    print(np.mean(sc))\n",
    "    print('  ')\n",
    "    print('  ')\n",
    "\n",
    "# print(BP)\n",
    "# print(clf1.feature_importances_)"
   ]
  },
  {
   "cell_type": "code",
   "execution_count": 44,
   "metadata": {},
   "outputs": [
    {
     "name": "stdout",
     "output_type": "stream",
     "text": [
      "[[113   0   0   0   0   3   1]\n",
      " [  0  88   0   1   1   0   0]\n",
      " [  0   0  93   0   0   1   0]\n",
      " [  0   0   0  42   0   0   0]\n",
      " [  0   0   0   0  20   0   0]\n",
      " [  0   0   0   0   0  81   0]\n",
      " [  0   0   0   0   0   0 126]]\n"
     ]
    },
    {
     "data": {
      "image/png": "[encoded data removed]",
      "text/plain": [
       "<matplotlib.figure.Figure at 0x10e6b8240>"
      ]
     },
     "metadata": {},
     "output_type": "display_data"
    }
   ],
   "source": [
    "from sklearn.metrics import confusion_matrix\n",
    "import seaborn as sn\n",
    "import pandas as pd\n",
    "\n",
    "# Compute confusion matrix\n",
    "cnf_matrix = confusion_matrix(clf1.fit(X, Y).predict(X), Y)\n",
    "print(cnf_matrix)\n",
    "\n",
    "# Plot confusion matrix\n",
    "df_cm = pd.DataFrame(cnf_matrix, index = [i for i in \"ABCDEFG\"],\n",
    "                  columns = [i for i in \"ABCDEFG\"])\n",
    "plt.figure(figsize = (9,7))\n",
    "sn.heatmap(df_cm, annot=True)\n",
    "plt.ylabel('True label')\n",
    "plt.xlabel('Predicted label')\n",
    "plt.show()\n"
   ]
  },
  {
   "cell_type": "code",
   "execution_count": 52,
   "metadata": {
    "scrolled": true
   },
   "outputs": [
    {
     "name": "stdout",
     "output_type": "stream",
     "text": [
      "0.726666666667\n",
      "  \n",
      "  \n",
      "[ 0.22283102  0.13280866  0.08447597  0.11446095  0.15882026  0.\n",
      "  0.07450022  0.11847683  0.09362609]\n"
     ]
    }
   ],
   "source": [
    "#Classifying mean neck chair data with [Aravind, Isabella, Kim, Lobna, Thomas, Anand, Vasu]\n",
    "\n",
    "#Define Dataset\n",
    "X = np.array(X_Neck_mean)\n",
    "Y = np.array(Y_Neck_mean)\n",
    "\n",
    "#Define parameters to optimize\n",
    "tuned_parameters = [{'n_estimators':[6,8,10,12,14,16,18,20],'criterion': ['gini','entropy'],\n",
    "                     'max_features':[1,2,3,4,5,6], 'max_depth': [5,6,7,8,9,10,11,12,13,None]}]\n",
    "                     #'class_weight': ['balanced',None], 'bootstrap':[True,False], 'warm_start':[True,False],\n",
    "                     #'oob_score':[True,False], 'verbose':[0,1,2]}]\n",
    "\n",
    "#Set the Classifier fit and tune parameters\n",
    "# rfc = RandomForestClassifier()\n",
    "# clf = GridSearchCV(rfc,tuned_parameters)\n",
    "# clf.fit(X, Y)\n",
    "\n",
    "# BP = clf.best_params_\n",
    "\n",
    "#K-fold cross validation with the optimized parameters\n",
    "for k in range(20,21):\n",
    "    clf1 = RandomForestClassifier(n_estimators=BP['n_estimators'],\n",
    "                                  criterion=BP['criterion'],\n",
    "                                  max_depth=BP['max_depth'],\n",
    "                                  max_features=BP['max_features'],\n",
    "                                  #class_weight=BP['class_weight'],\n",
    "                                  #bootstrap=BP['bootstrap'],\n",
    "                                  #warm_start=BP['warm_start'],\n",
    "                                  #oob_score=BP['oob_score'],\n",
    "                                  #verbose=BP['verbose'],\n",
    "                                  n_jobs=-1)\n",
    "\n",
    "    kf = KFold(n_splits=k)\n",
    "#     kf_scores = [clf1.fit(X[train], Y[train]).score(X[test], Y[test]) for train, test in kf.split(X)]\n",
    "    sc = []\n",
    "    for it in range(5):\n",
    "        combined = list(zip(X, Y))\n",
    "        random.shuffle(combined)\n",
    "\n",
    "        X_shuffled, Y_shuffled = zip(*combined)\n",
    "        X_shuffled = np.array(X_shuffled)\n",
    "        Y_shuffled = np.array(Y_shuffled)\n",
    "        kf_scores = [clf1.fit(X_shuffled[train], Y_shuffled[train]).score(X_shuffled[test], Y_shuffled[test]) for train, test in kf.split(X)]\n",
    "        kf_scores_mean = np.mean(kf_scores)\n",
    "        sc.append(kf_scores_mean)\n",
    "    \n",
    "    \n",
    "#     print('K = '+str(k+2))\n",
    "#     print('KF_scores_array')\n",
    "#     print(kf_scores)\n",
    "#     print('  ')\n",
    "#     print('KF_scores_mean')\n",
    "    print(np.mean(sc))\n",
    "    print('  ')\n",
    "    print('  ')\n",
    "\n",
    "# print(BP)\n",
    "print(clf1.feature_importances_)"
   ]
  },
  {
   "cell_type": "code",
   "execution_count": 46,
   "metadata": {},
   "outputs": [
    {
     "name": "stdout",
     "output_type": "stream",
     "text": [
      "[[ 6  0  0  0  0  0  0]\n",
      " [ 0  8  0  0  0  0  0]\n",
      " [ 0  0  9  0  0  0  0]\n",
      " [ 0  0  0  5  0  0  0]\n",
      " [ 0  0  0  0  4  0  0]\n",
      " [ 0  0  0  0  0  7  0]\n",
      " [ 0  0  0  0  0  0 10]]\n"
     ]
    },
    {
     "data": {
      "image/png": "[encoded data removed]",
      "text/plain": [
       "<matplotlib.figure.Figure at 0x10e575eb8>"
      ]
     },
     "metadata": {},
     "output_type": "display_data"
    }
   ],
   "source": [
    "from sklearn.metrics import confusion_matrix\n",
    "import seaborn as sn\n",
    "import pandas as pd\n",
    "\n",
    "# Compute confusion matrix\n",
    "cnf_matrix = confusion_matrix(clf1.fit(X, Y).predict(X), Y)\n",
    "print(cnf_matrix)\n",
    "\n",
    "# Plot confusion matrix\n",
    "df_cm = pd.DataFrame(cnf_matrix, index = [i for i in \"ABCDEFG\"],\n",
    "                  columns = [i for i in \"ABCDEFG\"])\n",
    "plt.figure(figsize = (9,7))\n",
    "sn.heatmap(df_cm, annot=True)\n",
    "plt.ylabel('True label')\n",
    "plt.xlabel('Predicted label')\n",
    "plt.show()\n"
   ]
  },
  {
   "cell_type": "code",
   "execution_count": 47,
   "metadata": {
    "scrolled": true
   },
   "outputs": [
    {
     "name": "stdout",
     "output_type": "stream",
     "text": [
      "0.726666666667\n",
      "  \n",
      "  \n"
     ]
    }
   ],
   "source": [
    "#Classifying median neck chair data with [Aravind, Isabella, Kim, Lobna, Thomas, Anand, Vasu]\n",
    "\n",
    "#Define Dataset\n",
    "X = np.array(X_Neck_median)\n",
    "Y = np.array(Y_Neck_median)\n",
    "\n",
    "#Define parameters to optimize\n",
    "tuned_parameters = [{'n_estimators':[6,8,10,12,14,16,18,20],'criterion': ['gini','entropy'],\n",
    "                     'max_features':[1,2,3,4,5,6], 'max_depth': [5,6,7,8,9,10,11,12,13,None]}]\n",
    "                     #'class_weight': ['balanced',None], 'bootstrap':[True,False], 'warm_start':[True,False],\n",
    "                     #'oob_score':[True,False], 'verbose':[0,1,2]}]\n",
    "\n",
    "# #Set the Classifier fit and tune parameters\n",
    "# rfc = RandomForestClassifier()\n",
    "# clf = GridSearchCV(rfc,tuned_parameters)\n",
    "# clf.fit(X, Y)\n",
    "\n",
    "# BP = clf.best_params_\n",
    "\n",
    "#K-fold cross validation with the optimized parameters\n",
    "for k in range(20,21):\n",
    "    clf1 = RandomForestClassifier(n_estimators=BP['n_estimators'],\n",
    "                                  criterion=BP['criterion'],\n",
    "                                  max_depth=BP['max_depth'],\n",
    "                                  max_features=BP['max_features'],\n",
    "                                  #class_weight=BP['class_weight'],\n",
    "                                  #bootstrap=BP['bootstrap'],\n",
    "                                  #warm_start=BP['warm_start'],\n",
    "                                  #oob_score=BP['oob_score'],\n",
    "                                  #verbose=BP['verbose'],\n",
    "                                  n_jobs=-1)\n",
    "\n",
    "    kf = KFold(n_splits=k)\n",
    "#     kf_scores = [clf1.fit(X[train], Y[train]).score(X[test], Y[test]) for train, test in kf.split(X)]\n",
    "    sc = []\n",
    "    for it in range(5):\n",
    "        combined = list(zip(X, Y))\n",
    "        random.shuffle(combined)\n",
    "\n",
    "        X_shuffled, Y_shuffled = zip(*combined)\n",
    "        X_shuffled = np.array(X_shuffled)\n",
    "        Y_shuffled = np.array(Y_shuffled)\n",
    "        kf_scores = [clf1.fit(X_shuffled[train], Y_shuffled[train]).score(X_shuffled[test], Y_shuffled[test]) for train, test in kf.split(X)]\n",
    "        kf_scores_mean = np.mean(kf_scores)\n",
    "        sc.append(kf_scores_mean)\n",
    "    \n",
    "    \n",
    "#     print('K = '+str(k+2))\n",
    "#     print('KF_scores_array')\n",
    "#     print(kf_scores)\n",
    "#     print('  ')\n",
    "#     print('KF_scores_mean')\n",
    "    print(np.mean(sc))\n",
    "    print('  ')\n",
    "    print('  ')\n",
    "\n",
    "# print(BP)\n",
    "# print(clf1.feature_importances_)"
   ]
  },
  {
   "cell_type": "code",
   "execution_count": 48,
   "metadata": {},
   "outputs": [
    {
     "name": "stdout",
     "output_type": "stream",
     "text": [
      "[[ 6  0  0  0  0  0  0]\n",
      " [ 0  8  0  0  0  0  0]\n",
      " [ 0  0  9  0  0  0  0]\n",
      " [ 0  0  0  5  0  0  0]\n",
      " [ 0  0  0  0  4  0  0]\n",
      " [ 0  0  0  0  0  7  0]\n",
      " [ 0  0  0  0  0  0 10]]\n"
     ]
    },
    {
     "data": {
      "image/png": "[encoded data removed]",
      "text/plain": [
       "<matplotlib.figure.Figure at 0x1120219b0>"
      ]
     },
     "metadata": {},
     "output_type": "display_data"
    }
   ],
   "source": [
    "from sklearn.metrics import confusion_matrix\n",
    "import seaborn as sn\n",
    "import pandas as pd\n",
    "\n",
    "# Compute confusion matrix\n",
    "cnf_matrix = confusion_matrix(clf1.fit(X, Y).predict(X), Y)\n",
    "print(cnf_matrix)\n",
    "\n",
    "# Plot confusion matrix\n",
    "df_cm = pd.DataFrame(cnf_matrix, index = [i for i in \"ABCDEFG\"],\n",
    "                  columns = [i for i in \"ABCDEFG\"])\n",
    "plt.figure(figsize = (9,7))\n",
    "sn.heatmap(df_cm, annot=True)\n",
    "plt.ylabel('True label')\n",
    "plt.xlabel('Predicted label')\n",
    "plt.show()\n"
   ]
  },
  {
   "cell_type": "code",
   "execution_count": 70,
   "metadata": {},
   "outputs": [
    {
     "data": {
      "text/plain": [
       "array([  5.72151899,   4.98734177,   5.9125    ,   5.2375    ,\n",
       "         6.0875    ,   5.8375    ,   5.44705882,   5.57831325,\n",
       "         9.11842105,   9.76388889,  10.        ,  10.54545455,\n",
       "         9.90243902,  10.43421053,  10.        ,   8.8045977 ,\n",
       "        10.31313131,  11.63636364,   7.67924528,   8.37931034,\n",
       "         8.27272727,   6.16666667,   7.83870968,   9.14516129,\n",
       "         6.07692308,   6.54761905,   7.60465116,   9.3       ,\n",
       "         6.41111111,   6.        ,   7.1       ,   6.4494382 ,\n",
       "         7.046875  ,   6.        ,   6.13846154,   6.19402985,\n",
       "         6.07352941,   5.77777778,   6.26086957,  20.14925373,\n",
       "        17.10294118,  17.09090909,  16.01470588,  15.82352941,\n",
       "         7.92537313,   4.26470588,   3.80882353,   4.32352941,\n",
       "        15.65979381,  17.57291667,  15.47916667,  15.60416667,\n",
       "        14.17894737,  16.23157895,  16.08510638,  16.72631579,\n",
       "        17.44791667,  16.13829787])"
      ]
     },
     "execution_count": 70,
     "metadata": {},
     "output_type": "execute_result"
    }
   ],
   "source": [
    "Features_model = np.array(X_chair_mean)\n",
    "Features_model[:,5]"
   ]
  },
  {
   "cell_type": "code",
   "execution_count": 71,
   "metadata": {},
   "outputs": [
    {
     "data": {
      "image/png": "[encoded data removed]",
      "text/plain": [
       "<matplotlib.figure.Figure at 0x1034769b0>"
      ]
     },
     "metadata": {},
     "output_type": "display_data"
    }
   ],
   "source": [
    "#Plotting mean chair data with [Aravind, Isabella, Kim, Lobna, Thomas, Anand, Vasu]\n",
    "\n",
    "#Set up Prediction Model\n",
    "#Set the feature values and the output values\n",
    "Features_model = np.array(X_chair_mean)\n",
    "Y_model = np.array(Y_chair_mean)\n",
    "\n",
    "feature1 = 5\n",
    "feature2 = 3\n",
    "features = ['Peak Amplitude (V)','Trough Amplitude (V)', 'Peak to Peak Distance (Time)', \n",
    "            'Trough to Trough Distance (Time)', 'Peak to Trough Distance (Time)', 'Max FFT Value (Hz)']\n",
    "\n",
    "X1 = Features_model[:,feature1]\n",
    "X2 = Features_model[:,feature2]\n",
    "\n",
    "\n",
    "\n",
    "#Optimizing Parameters\n",
    "#Define Dataset\n",
    "A = np.array(X_chair_mean)\n",
    "B = np.array(Y_chair_mean)\n",
    "\n",
    "#Define parameters to optimize\n",
    "tuned_parameters = [{'n_estimators':[6,8,10,12,14,16,18,20],'criterion': ['gini','entropy'],\n",
    "                     'max_features':[1,2,3,4,5,6], 'max_depth': [5,6,7,8,9,10,11,12,13,None]}]\n",
    "\n",
    "#Set the Classifier fit and tune parameters\n",
    "rfc = RandomForestClassifier()\n",
    "clf = GridSearchCV(rfc,tuned_parameters)\n",
    "clf.fit(A, B)\n",
    "\n",
    "BP = clf.best_params_\n",
    "\n",
    "#Set Classifier and Fit the data\n",
    "clf1 = RandomForestClassifier(n_estimators=BP['n_estimators'],\n",
    "                              criterion=BP['criterion'],\n",
    "                              max_depth=BP['max_depth'],\n",
    "                              max_features=BP['max_features'])\n",
    "                              #presort=BP['presort'],\n",
    "clf1.fit(np.c_[X1,X2],Y_model)\n",
    "\n",
    "\n",
    "#Set up the steps in the grid mesh\n",
    "plot_step_x1 = (max(X1)-min(X1))/100\n",
    "plot_step_x2 = (max(X2)-min(X2))/100\n",
    "\n",
    "# Let's pre-compute the range for our features\n",
    "x1_min, x1_max = X1.min(), X1.max()\n",
    "x2_min, x2_max = X2.min(), X2.max()\n",
    "\n",
    "# And create a meshgrid so that we can create a countour plot on it\n",
    "xx1, xx2 = np.meshgrid(np.arange(x1_min, x1_max, plot_step_x1),\n",
    "                     np.arange(x2_min, x2_max, plot_step_x2))\n",
    "\n",
    "# Now we predict the values for all of the cells in the meshgrid\n",
    "Z = clf1.predict(np.c_[xx1.ravel(), xx2.ravel()]) # If you're curious what this is, read here: https://docs.scipy.org/doc/numpy/reference/generated/numpy.c_.html and https://docs.scipy.org/doc/numpy/reference/generated/numpy.ravel.html\n",
    "\n",
    "# And we reshape those results to have the same shape as the mesh\n",
    "Z = Z.reshape(xx1.shape)\n",
    "\n",
    "# Now we can finally contour-plot, using a specific colormap\n",
    "cs = plt.contourf(xx1, xx2, Z, cmap=plt.cm.coolwarm)\n",
    "\n",
    "plt.xlabel(features[feature1])\n",
    "plt.ylabel(features[feature2])\n",
    "plt.axis(\"tight\")\n",
    "\n",
    "# Plot also the training points\n",
    "plt.scatter(X1, X2, c=Y_model, cmap=plt.cm.coolwarm)\n",
    "\n",
    "plt.suptitle(\"Random Forest Classification of Mean Chair Data\")\n",
    "plt.show()\n"
   ]
  },
  {
   "cell_type": "code",
   "execution_count": null,
   "metadata": {
    "collapsed": true
   },
   "outputs": [],
   "source": []
  }
 ],
 "metadata": {
  "anaconda-cloud": {},
  "kernelspec": {
   "display_name": "Python 3",
   "language": "python",
   "name": "python3"
  },
  "language_info": {
   "codemirror_mode": {
    "name": "ipython",
    "version": 3
   },
   "file_extension": ".py",
   "mimetype": "text/x-python",
   "name": "python",
   "nbconvert_exporter": "python",
   "pygments_lexer": "ipython3",
   "version": "3.6.3"
  }
 },
 "nbformat": 4,
 "nbformat_minor": 1
}
