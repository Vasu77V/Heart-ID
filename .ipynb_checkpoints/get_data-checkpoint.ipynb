{
 "cells": [
  {
   "cell_type": "markdown",
   "metadata": {
    "collapsed": true
   },
   "source": [
    "#Parse the data and get rid of the weird data in the middle (indices from 76800-->153600)\n"
   ]
  },
  {
   "cell_type": "code",
   "execution_count": 2,
   "metadata": {
    "collapsed": true
   },
   "outputs": [],
   "source": [
    "import matplotlib.pyplot as plt\n",
    "%matplotlib inline\n",
    "import pandas as pd\n",
    "import numpy as np\n"
   ]
  },
  {
   "cell_type": "code",
   "execution_count": 3,
   "metadata": {
    "collapsed": true
   },
   "outputs": [],
   "source": [
    "\n",
    "names = ['aravind','Balaji','Coral','Isabella','kim','Lobna','Nathan','thomas']\n",
    "\n",
    "ArrTotal = []\n",
    "TimeTotal = []\n",
    "ChairTotal = []\n",
    "NeckTotal = []\n",
    "\n",
    "for Name in names:   \n",
    "    for j in range(10):\n",
    "        j = j+1\n",
    "        fp = open(\"../../Batch 2 Data/\"+Name+\"_\"+str(j)+\".csv\", \"r\")\n",
    "        lines=fp.readlines()\n",
    "        fp.close()\n",
    "\n",
    "        arr = []\n",
    "        time = []\n",
    "        neck = []\n",
    "        chair = []\n",
    "\n",
    "        for line in lines:\n",
    "            values = line.split(',')\n",
    "            k = 0\n",
    "            while k < len(values):\n",
    "                l = []\n",
    "                time.append(float(values[k]))\n",
    "                neck.append(float(values[k+1]))\n",
    "                chair.append(float(values[k+2]))\n",
    "                l.append(float(values[k]))\n",
    "                l.append(float(values[k+1]))\n",
    "                l.append(float(values[k+2]))\n",
    "                k+=3\n",
    "                arr.append(l)\n",
    "\n",
    "        ArrTotal.append(arr)\n",
    "        TimeTotal.append(time)\n",
    "        ChairTotal.append(chair)\n",
    "        NeckTotal.append(neck)"
   ]
  },
  {
   "cell_type": "code",
   "execution_count": 5,
   "metadata": {
    "collapsed": true
   },
   "outputs": [],
   "source": [
    "Sliced_ArrTotal_1 = []\n",
    "Sliced_TimeTotal_1 = []\n",
    "Sliced_ChairTotal_1 = []\n",
    "Sliced_NeckTotal_1 = []\n",
    "\n",
    "Sliced_ArrTotal_2 = []\n",
    "Sliced_TimeTotal_2 = []\n",
    "Sliced_ChairTotal_2 = []\n",
    "Sliced_NeckTotal_2 = []\n",
    "\n",
    "for j in range(80):\n",
    "    Sliced_ArrTotal_1.append(ArrTotal[j][:76800])\n",
    "    Sliced_ArrTotal_2.append(ArrTotal[j][230400:])\n",
    "    \n",
    "    Sliced_TimeTotal_1.append(TimeTotal[j][:76800])\n",
    "    Sliced_TimeTotal_2.append(TimeTotal[j][230400:])\n",
    "    \n",
    "    Sliced_ChairTotal_1.append(ChairTotal[j][:76800])\n",
    "    Sliced_ChairTotal_2.append(ChairTotal[j][230400:])\n",
    "    \n",
    "    Sliced_NeckTotal_1.append(NeckTotal[j][:76800])\n",
    "    Sliced_NeckTotal_2.append(NeckTotal[j][230400:])"
   ]
  },
  {
   "cell_type": "code",
   "execution_count": 14,
   "metadata": {},
   "outputs": [],
   "source": [
    "import pickle\n",
    "pickle.dump(Sliced_ArrTotal_1, open( \"Sliced_ArrTotal_1.p\", \"wb\" ))\n",
    "pickle.dump(Sliced_TimeTotal_1, open( \"Sliced_TimeTotal_1.p\", \"wb\" ))\n",
    "pickle.dump(Sliced_ChairTotal_1, open( \"Sliced_ChairTotal_1.p\", \"wb\" ))\n",
    "pickle.dump(Sliced_NeckTotal_1, open( \"Sliced_NeckTotal_1.p\", \"wb\" ))\n",
    "\n",
    "pickle.dump(Sliced_ArrTotal_2, open( \"Sliced_ArrTotal_2.p\", \"wb\" ))\n",
    "pickle.dump(Sliced_TimeTotal_2, open( \"Sliced_TimeTotal_2.p\", \"wb\" ))\n",
    "pickle.dump(Sliced_ChairTotal_2, open( \"Sliced_ChairTotal_2.p\", \"wb\" ))\n",
    "pickle.dump(Sliced_NeckTotal_2, open( \"Sliced_NeckTotal_2.p\", \"wb\" ))\n",
    "\n",
    "\n"
   ]
  },
  {
   "cell_type": "code",
   "execution_count": null,
   "metadata": {
    "collapsed": true
   },
   "outputs": [],
   "source": [
    "Sliced_ArrTotal_1 = pickle.load( open( \"Sliced_ArrTotal_1.p\", \"rb\" ) )\n",
    "Sliced_TimeTotal_1 = pickle.load( open( \"Sliced_TimeTotal_1.p\", \"rb\" ) )\n",
    "Sliced_ChairTotal_1 = pickle.load( open( \"Sliced_ChairTotal_1.p\", \"rb\" ) )\n",
    "Sliced_NeckTotal_1 = pickle.load( open( \"Sliced_NeckTotal_1.p\", \"rb\" ) )\n",
    "\n",
    "Sliced_ArrTotal_2 = pickle.load( open( \"Sliced_ArrTotal_2.p\", \"rb\" ) )\n",
    "Sliced_TimeTotal_2 = pickle.load( open( \"Sliced_TimeTotal_2.p\", \"rb\" ) )\n",
    "Sliced_ChairTotal_2 = pickle.load( open( \"Sliced_ChairTotal_2.p\", \"rb\" ) )\n",
    "Sliced_NeckTotal_2 = pickle.load( open( \"Sliced_NeckTotal_2.p\", \"rb\" ) )\n",
    "\n"
   ]
  }
 ],
 "metadata": {
  "anaconda-cloud": {},
  "kernelspec": {
   "display_name": "Python 3",
   "language": "python",
   "name": "python3"
  },
  "language_info": {
   "codemirror_mode": {
    "name": "ipython",
    "version": 3
   },
   "file_extension": ".py",
   "mimetype": "text/x-python",
   "name": "python",
   "nbconvert_exporter": "python",
   "pygments_lexer": "ipython3",
   "version": "3.6.3"
  }
 },
 "nbformat": 4,
 "nbformat_minor": 2
}
