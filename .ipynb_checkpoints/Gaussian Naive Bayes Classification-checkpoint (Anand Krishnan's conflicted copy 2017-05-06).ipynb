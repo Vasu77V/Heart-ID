{
 "cells": [
  {
   "cell_type": "code",
   "execution_count": 2,
   "metadata": {
    "collapsed": true
   },
   "outputs": [],
   "source": [
    "import pickle\n",
    "\n",
    "X_chair = pickle.load(open(\"X_chair.p\",\"rb\"))\n",
    "Y_chair = pickle.load(open(\"Y_chair.p\",\"rb\"))\n",
    "X_chair_median = pickle.load(open(\"X_median_chair.p\",\"rb\"))\n",
    "Y_chair_median = pickle.load(open(\"Y_median_chair.p\",\"rb\"))\n",
    "X_chair_mean = pickle.load(open(\"X_mean_chair.p\",\"rb\"))\n",
    "Y_chair_mean = pickle.load(open(\"Y_mean_chair.p\",\"rb\"))\n",
    "\n",
    "X_Neck = pickle.load(open(\"X_Neck.p\",\"rb\"))\n",
    "Y_Neck = pickle.load(open(\"Y_Neck.p\",\"rb\"))\n",
    "X_Neck_median = pickle.load(open(\"X_median_Neck.p\",\"rb\"))\n",
    "Y_Neck_median = pickle.load(open(\"Y_median_Neck.p\",\"rb\"))\n",
    "X_Neck_mean = pickle.load(open(\"X_mean_Neck.p\",\"rb\"))\n",
    "Y_Neck_mean = pickle.load(open(\"Y_mean_Neck.p\",\"rb\"))\n"
   ]
  },
  {
   "cell_type": "code",
   "execution_count": 3,
   "metadata": {
    "collapsed": true
   },
   "outputs": [],
   "source": [
    "import numpy as np\n",
    "import pandas as pd\n",
    "from sklearn.svm import SVC\n",
    "from sklearn import tree\n",
    "from sklearn.model_selection import train_test_split, KFold\n",
    "import matplotlib.pyplot as plt\n",
    "from sklearn.model_selection import GridSearchCV\n",
    "from sklearn.naive_bayes import GaussianNB\n",
    "import random"
   ]
  },
  {
   "cell_type": "code",
   "execution_count": 6,
   "metadata": {
    "collapsed": false
   },
   "outputs": [
    {
     "name": "stdout",
     "output_type": "stream",
     "text": [
      "0.452103794381\n",
      "  \n",
      "  \n"
     ]
    }
   ],
   "source": [
    "#Classifying all chair data with [Aravind, Isabella, Kim, Lobna, Thomas, Anand, Vasu]\n",
    "\n",
    "#Define Dataset\n",
    "X = np.array(X_chair)\n",
    "Y = np.array(Y_chair)\n",
    "\n",
    "#K-fold cross validation with the optimized parameters\n",
    "for k in range(18,19):\n",
    "    clf1 = GaussianNB(priors=None)\n",
    "    kf = KFold(n_splits=k+2)\n",
    "#     kf_scores = [clf1.fit(X[train], Y[train]).score(X[test], Y[test]) for train, test in kf.split(X)]\n",
    "    sc = []\n",
    "    for it in range(5):\n",
    "        combined = list(zip(X, Y))\n",
    "        random.shuffle(combined)\n",
    "\n",
    "        X_shuffled, Y_shuffled = zip(*combined)\n",
    "        X_shuffled = np.array(X_shuffled)\n",
    "        Y_shuffled = np.array(Y_shuffled)\n",
    "        kf_scores = [clf1.fit(X_shuffled[train], Y_shuffled[train]).score(X_shuffled[test], Y_shuffled[test]) for train, test in kf.split(X)]\n",
    "        kf_scores_mean = np.mean(kf_scores)\n",
    "        sc.append(kf_scores_mean)\n",
    "    \n",
    "    \n",
    "#     print('K = '+str(k+2))\n",
    "#     print('KF_scores_array')\n",
    "#     print(kf_scores)\n",
    "#     print('  ')\n",
    "#     print('KF_scores_mean')\n",
    "    print(np.mean(sc))\n",
    "    print('  ')\n",
    "    print('  ')\n",
    "\n",
    "# print(BP)\n",
    "# print(clf1.feature_importances_)"
   ]
  },
  {
   "cell_type": "code",
   "execution_count": 7,
   "metadata": {
    "collapsed": false
   },
   "outputs": [
    {
     "name": "stdout",
     "output_type": "stream",
     "text": [
      "0.881666666667\n",
      "  \n",
      "  \n"
     ]
    },
    {
     "ename": "AttributeError",
     "evalue": "'GaussianNB' object has no attribute 'feature_importances_'",
     "output_type": "error",
     "traceback": [
      "\u001b[0;31m---------------------------------------------------------------------------\u001b[0m",
      "\u001b[0;31mAttributeError\u001b[0m                            Traceback (most recent call last)",
      "\u001b[0;32m<ipython-input-7-922f11d95b8a>\u001b[0m in \u001b[0;36m<module>\u001b[0;34m()\u001b[0m\n\u001b[1;32m     32\u001b[0m     \u001b[0mprint\u001b[0m\u001b[0;34m(\u001b[0m\u001b[0;34m'  '\u001b[0m\u001b[0;34m)\u001b[0m\u001b[0;34m\u001b[0m\u001b[0m\n\u001b[1;32m     33\u001b[0m \u001b[0;34m\u001b[0m\u001b[0m\n\u001b[0;32m---> 34\u001b[0;31m \u001b[0mprint\u001b[0m\u001b[0;34m(\u001b[0m\u001b[0mclf1\u001b[0m\u001b[0;34m.\u001b[0m\u001b[0mfeature_importances_\u001b[0m\u001b[0;34m)\u001b[0m\u001b[0;34m\u001b[0m\u001b[0m\n\u001b[0m",
      "\u001b[0;31mAttributeError\u001b[0m: 'GaussianNB' object has no attribute 'feature_importances_'"
     ]
    }
   ],
   "source": [
    "#Classifying mean chair data with [Aravind, Isabella, Kim, Lobna, Thomas, Anand, Vasu]\n",
    "\n",
    "#Define Dataset\n",
    "X = np.array(X_chair_mean)\n",
    "Y = np.array(Y_chair_mean)\n",
    "\n",
    "#K-fold cross validation with the optimized parameters\n",
    "for k in range(18,19):\n",
    "    clf1 = GaussianNB(priors=None)\n",
    "    kf = KFold(n_splits=k+2)\n",
    "#     kf_scores = [clf1.fit(X[train], Y[train]).score(X[test], Y[test]) for train, test in kf.split(X)]\n",
    "    sc = []\n",
    "    for it in range(5):\n",
    "        combined = list(zip(X, Y))\n",
    "        random.shuffle(combined)\n",
    "\n",
    "        X_shuffled, Y_shuffled = zip(*combined)\n",
    "        X_shuffled = np.array(X_shuffled)\n",
    "        Y_shuffled = np.array(Y_shuffled)\n",
    "        kf_scores = [clf1.fit(X_shuffled[train], Y_shuffled[train]).score(X_shuffled[test], Y_shuffled[test]) for train, test in kf.split(X)]\n",
    "        kf_scores_mean = np.mean(kf_scores)\n",
    "        sc.append(kf_scores_mean)\n",
    "    \n",
    "    \n",
    "#     print('K = '+str(k+2))\n",
    "#     print('KF_scores_array')\n",
    "#     print(kf_scores)\n",
    "#     print('  ')\n",
    "#     print('KF_scores_mean')\n",
    "    print(np.mean(sc))\n",
    "    print('  ')\n",
    "    print('  ')\n",
    "\n",
    "print(clf1.feature_importances_)"
   ]
  },
  {
   "cell_type": "code",
   "execution_count": 10,
   "metadata": {
    "collapsed": false
   },
   "outputs": [
    {
     "name": "stdout",
     "output_type": "stream",
     "text": [
      "0.641666666667\n",
      "  \n",
      "  \n"
     ]
    },
    {
     "ename": "NameError",
     "evalue": "name 'BP' is not defined",
     "output_type": "error",
     "traceback": [
      "\u001b[0;31m---------------------------------------------------------------------------\u001b[0m",
      "\u001b[0;31mNameError\u001b[0m                                 Traceback (most recent call last)",
      "\u001b[0;32m<ipython-input-10-1759be830424>\u001b[0m in \u001b[0;36m<module>\u001b[0;34m()\u001b[0m\n\u001b[1;32m     32\u001b[0m     \u001b[0mprint\u001b[0m\u001b[0;34m(\u001b[0m\u001b[0;34m'  '\u001b[0m\u001b[0;34m)\u001b[0m\u001b[0;34m\u001b[0m\u001b[0m\n\u001b[1;32m     33\u001b[0m \u001b[0;34m\u001b[0m\u001b[0m\n\u001b[0;32m---> 34\u001b[0;31m \u001b[0mprint\u001b[0m\u001b[0;34m(\u001b[0m\u001b[0mBP\u001b[0m\u001b[0;34m)\u001b[0m\u001b[0;34m\u001b[0m\u001b[0m\n\u001b[0m\u001b[1;32m     35\u001b[0m \u001b[0mprint\u001b[0m\u001b[0;34m(\u001b[0m\u001b[0mclf1\u001b[0m\u001b[0;34m.\u001b[0m\u001b[0mfeature_importances_\u001b[0m\u001b[0;34m)\u001b[0m\u001b[0;34m\u001b[0m\u001b[0m\n",
      "\u001b[0;31mNameError\u001b[0m: name 'BP' is not defined"
     ]
    }
   ],
   "source": [
    "#Classifying median chair data with [Aravind, Isabella, Kim, Lobna, Thomas, Anand, Vasu]\n",
    "\n",
    "#Define Dataset\n",
    "X = np.array(X_chair_median)\n",
    "Y = np.array(Y_chair_median)\n",
    "\n",
    "#K-fold cross validation with the optimized parameters\n",
    "for k in range(18,19):\n",
    "    clf1 = GaussianNB(priors=None)\n",
    "    kf = KFold(n_splits=k+2)\n",
    "#     kf_scores = [clf1.fit(X[train], Y[train]).score(X[test], Y[test]) for train, test in kf.split(X)]\n",
    "    sc = []\n",
    "    for it in range(5):\n",
    "        combined = list(zip(X, Y))\n",
    "        random.shuffle(combined)\n",
    "\n",
    "        X_shuffled, Y_shuffled = zip(*combined)\n",
    "        X_shuffled = np.array(X_shuffled)\n",
    "        Y_shuffled = np.array(Y_shuffled)\n",
    "        kf_scores = [clf1.fit(X_shuffled[train], Y_shuffled[train]).score(X_shuffled[test], Y_shuffled[test]) for train, test in kf.split(X)]\n",
    "        kf_scores_mean = np.mean(kf_scores)\n",
    "        sc.append(kf_scores_mean)\n",
    "    \n",
    "    \n",
    "#     print('K = '+str(k+2))\n",
    "#     print('KF_scores_array')\n",
    "#     print(kf_scores)\n",
    "#     print('  ')\n",
    "#     print('KF_scores_mean')\n",
    "    print(np.mean(sc))\n",
    "    print('  ')\n",
    "    print('  ')\n",
    "\n",
    "print(BP)\n",
    "print(clf1.feature_importances_)"
   ]
  },
  {
   "cell_type": "code",
   "execution_count": 11,
   "metadata": {
    "collapsed": false
   },
   "outputs": [
    {
     "name": "stdout",
     "output_type": "stream",
     "text": [
      "0.56039408867\n",
      "  \n",
      "  \n",
      "0.5609473419\n",
      "  \n",
      "  \n",
      "0.555552447552\n",
      "  \n",
      "  \n"
     ]
    },
    {
     "ename": "NameError",
     "evalue": "name 'BP' is not defined",
     "output_type": "error",
     "traceback": [
      "\u001b[0;31m---------------------------------------------------------------------------\u001b[0m",
      "\u001b[0;31mNameError\u001b[0m                                 Traceback (most recent call last)",
      "\u001b[0;32m<ipython-input-11-80f43fa6f986>\u001b[0m in \u001b[0;36m<module>\u001b[0;34m()\u001b[0m\n\u001b[1;32m     32\u001b[0m     \u001b[0mprint\u001b[0m\u001b[0;34m(\u001b[0m\u001b[0;34m'  '\u001b[0m\u001b[0;34m)\u001b[0m\u001b[0;34m\u001b[0m\u001b[0m\n\u001b[1;32m     33\u001b[0m \u001b[0;34m\u001b[0m\u001b[0m\n\u001b[0;32m---> 34\u001b[0;31m \u001b[0mprint\u001b[0m\u001b[0;34m(\u001b[0m\u001b[0mBP\u001b[0m\u001b[0;34m)\u001b[0m\u001b[0;34m\u001b[0m\u001b[0m\n\u001b[0m\u001b[1;32m     35\u001b[0m \u001b[0mprint\u001b[0m\u001b[0;34m(\u001b[0m\u001b[0mclf1\u001b[0m\u001b[0;34m.\u001b[0m\u001b[0mfeature_importances_\u001b[0m\u001b[0;34m)\u001b[0m\u001b[0;34m\u001b[0m\u001b[0m\n",
      "\u001b[0;31mNameError\u001b[0m: name 'BP' is not defined"
     ]
    }
   ],
   "source": [
    "#Classifying all neck data with [Aravind, Isabella, Kim, Lobna, Thomas, Anand, Vasu]\n",
    "\n",
    "#Define Dataset\n",
    "X = np.array(X_Neck)\n",
    "Y = np.array(Y_Neck)\n",
    "\n",
    "#K-fold cross validation with the optimized parameters\n",
    "for k in range(18,21):\n",
    "    clf1 = GaussianNB(priors=None)\n",
    "    kf = KFold(n_splits=k+2)\n",
    "#     kf_scores = [clf1.fit(X[train], Y[train]).score(X[test], Y[test]) for train, test in kf.split(X)]\n",
    "    sc = []\n",
    "    for it in range(5):\n",
    "        combined = list(zip(X, Y))\n",
    "        random.shuffle(combined)\n",
    "\n",
    "        X_shuffled, Y_shuffled = zip(*combined)\n",
    "        X_shuffled = np.array(X_shuffled)\n",
    "        Y_shuffled = np.array(Y_shuffled)\n",
    "        kf_scores = [clf1.fit(X_shuffled[train], Y_shuffled[train]).score(X_shuffled[test], Y_shuffled[test]) for train, test in kf.split(X)]\n",
    "        kf_scores_mean = np.mean(kf_scores)\n",
    "        sc.append(kf_scores_mean)\n",
    "    \n",
    "    \n",
    "#     print('K = '+str(k+2))\n",
    "#     print('KF_scores_array')\n",
    "#     print(kf_scores)\n",
    "#     print('  ')\n",
    "#     print('KF_scores_mean')\n",
    "    print(np.mean(sc))\n",
    "    print('  ')\n",
    "    print('  ')\n",
    "\n",
    "print(BP)\n",
    "print(clf1.feature_importances_)"
   ]
  },
  {
   "cell_type": "code",
   "execution_count": 12,
   "metadata": {
    "collapsed": false
   },
   "outputs": [
    {
     "name": "stdout",
     "output_type": "stream",
     "text": [
      "0.671666666667\n",
      "  \n",
      "  \n",
      "0.673015873016\n",
      "  \n",
      "  \n",
      "0.672727272727\n",
      "  \n",
      "  \n"
     ]
    },
    {
     "ename": "NameError",
     "evalue": "name 'BP' is not defined",
     "output_type": "error",
     "traceback": [
      "\u001b[0;31m---------------------------------------------------------------------------\u001b[0m",
      "\u001b[0;31mNameError\u001b[0m                                 Traceback (most recent call last)",
      "\u001b[0;32m<ipython-input-12-7a4331f06eb8>\u001b[0m in \u001b[0;36m<module>\u001b[0;34m()\u001b[0m\n\u001b[1;32m     32\u001b[0m     \u001b[0mprint\u001b[0m\u001b[0;34m(\u001b[0m\u001b[0;34m'  '\u001b[0m\u001b[0;34m)\u001b[0m\u001b[0;34m\u001b[0m\u001b[0m\n\u001b[1;32m     33\u001b[0m \u001b[0;34m\u001b[0m\u001b[0m\n\u001b[0;32m---> 34\u001b[0;31m \u001b[0mprint\u001b[0m\u001b[0;34m(\u001b[0m\u001b[0mBP\u001b[0m\u001b[0;34m)\u001b[0m\u001b[0;34m\u001b[0m\u001b[0m\n\u001b[0m\u001b[1;32m     35\u001b[0m \u001b[0mprint\u001b[0m\u001b[0;34m(\u001b[0m\u001b[0mclf1\u001b[0m\u001b[0;34m.\u001b[0m\u001b[0mfeature_importances_\u001b[0m\u001b[0;34m)\u001b[0m\u001b[0;34m\u001b[0m\u001b[0m\n",
      "\u001b[0;31mNameError\u001b[0m: name 'BP' is not defined"
     ]
    }
   ],
   "source": [
    "#Classifying mean neck data with [Aravind, Isabella, Kim, Lobna, Thomas, Anand, Vasu]\n",
    "\n",
    "#Define Dataset\n",
    "X = np.array(X_Neck_mean)\n",
    "Y = np.array(Y_Neck_mean)\n",
    "\n",
    "#K-fold cross validation with the optimized parameters\n",
    "for k in range(18,21):\n",
    "    clf1 = GaussianNB(priors=None)\n",
    "    kf = KFold(n_splits=k+2)\n",
    "#     kf_scores = [clf1.fit(X[train], Y[train]).score(X[test], Y[test]) for train, test in kf.split(X)]\n",
    "    sc = []\n",
    "    for it in range(5):\n",
    "        combined = list(zip(X, Y))\n",
    "        random.shuffle(combined)\n",
    "\n",
    "        X_shuffled, Y_shuffled = zip(*combined)\n",
    "        X_shuffled = np.array(X_shuffled)\n",
    "        Y_shuffled = np.array(Y_shuffled)\n",
    "        kf_scores = [clf1.fit(X_shuffled[train], Y_shuffled[train]).score(X_shuffled[test], Y_shuffled[test]) for train, test in kf.split(X)]\n",
    "        kf_scores_mean = np.mean(kf_scores)\n",
    "        sc.append(kf_scores_mean)\n",
    "    \n",
    "    \n",
    "#     print('K = '+str(k+2))\n",
    "#     print('KF_scores_array')\n",
    "#     print(kf_scores)\n",
    "#     print('  ')\n",
    "#     print('KF_scores_mean')\n",
    "    print(np.mean(sc))\n",
    "    print('  ')\n",
    "    print('  ')\n",
    "\n",
    "print(BP)\n",
    "print(clf1.feature_importances_)"
   ]
  },
  {
   "cell_type": "code",
   "execution_count": 13,
   "metadata": {
    "collapsed": false
   },
   "outputs": [
    {
     "name": "stdout",
     "output_type": "stream",
     "text": [
      "0.52\n",
      "  \n",
      "  \n",
      "0.54126984127\n",
      "  \n",
      "  \n",
      "0.525757575758\n",
      "  \n",
      "  \n"
     ]
    },
    {
     "ename": "NameError",
     "evalue": "name 'BP' is not defined",
     "output_type": "error",
     "traceback": [
      "\u001b[0;31m---------------------------------------------------------------------------\u001b[0m",
      "\u001b[0;31mNameError\u001b[0m                                 Traceback (most recent call last)",
      "\u001b[0;32m<ipython-input-13-c6a2efff7c24>\u001b[0m in \u001b[0;36m<module>\u001b[0;34m()\u001b[0m\n\u001b[1;32m     32\u001b[0m     \u001b[0mprint\u001b[0m\u001b[0;34m(\u001b[0m\u001b[0;34m'  '\u001b[0m\u001b[0;34m)\u001b[0m\u001b[0;34m\u001b[0m\u001b[0m\n\u001b[1;32m     33\u001b[0m \u001b[0;34m\u001b[0m\u001b[0m\n\u001b[0;32m---> 34\u001b[0;31m \u001b[0mprint\u001b[0m\u001b[0;34m(\u001b[0m\u001b[0mBP\u001b[0m\u001b[0;34m)\u001b[0m\u001b[0;34m\u001b[0m\u001b[0m\n\u001b[0m\u001b[1;32m     35\u001b[0m \u001b[0mprint\u001b[0m\u001b[0;34m(\u001b[0m\u001b[0mclf1\u001b[0m\u001b[0;34m.\u001b[0m\u001b[0mfeature_importances_\u001b[0m\u001b[0;34m)\u001b[0m\u001b[0;34m\u001b[0m\u001b[0m\n",
      "\u001b[0;31mNameError\u001b[0m: name 'BP' is not defined"
     ]
    }
   ],
   "source": [
    "#Classifying median neck data with [Aravind, Isabella, Kim, Lobna, Thomas, Anand, Vasu]\n",
    "\n",
    "#Define Dataset\n",
    "X = np.array(X_Neck_median)\n",
    "Y = np.array(Y_Neck_median)\n",
    "\n",
    "#K-fold cross validation with the optimized parameters\n",
    "for k in range(18,21):\n",
    "    clf1 = GaussianNB(priors=None)\n",
    "    kf = KFold(n_splits=k+2)\n",
    "#     kf_scores = [clf1.fit(X[train], Y[train]).score(X[test], Y[test]) for train, test in kf.split(X)]\n",
    "    sc = []\n",
    "    for it in range(5):\n",
    "        combined = list(zip(X, Y))\n",
    "        random.shuffle(combined)\n",
    "\n",
    "        X_shuffled, Y_shuffled = zip(*combined)\n",
    "        X_shuffled = np.array(X_shuffled)\n",
    "        Y_shuffled = np.array(Y_shuffled)\n",
    "        kf_scores = [clf1.fit(X_shuffled[train], Y_shuffled[train]).score(X_shuffled[test], Y_shuffled[test]) for train, test in kf.split(X)]\n",
    "        kf_scores_mean = np.mean(kf_scores)\n",
    "        sc.append(kf_scores_mean)\n",
    "    \n",
    "    \n",
    "#     print('K = '+str(k+2))\n",
    "#     print('KF_scores_array')\n",
    "#     print(kf_scores)\n",
    "#     print('  ')\n",
    "#     print('KF_scores_mean')\n",
    "    print(np.mean(sc))\n",
    "    print('  ')\n",
    "    print('  ')\n",
    "\n",
    "print(BP)\n",
    "print(clf1.feature_importances_)"
   ]
  },
  {
   "cell_type": "code",
   "execution_count": 31,
   "metadata": {
    "collapsed": false
   },
   "outputs": [
    {
     "name": "stderr",
     "output_type": "stream",
     "text": [
      "/Users/haileykim/anaconda3/lib/python3.5/site-packages/matplotlib/axes/_axes.py:531: UserWarning: No labelled objects found. Use label='...' kwarg on individual plots.\n",
      "  warnings.warn(\"No labelled objects found. \"\n"
     ]
    },
    {
     "data": {
      "image/png": "[encoded data removed]",
      "text/plain": [
       "<matplotlib.figure.Figure at 0x1195de5c0>"
      ]
     },
     "metadata": {},
     "output_type": "display_data"
    }
   ],
   "source": [
    "#Set up Prediction Model\n",
    "#Set the feature values and the output values\n",
    "Features_model = np.array(X_chair_mean)\n",
    "Y_model = np.array(Y_chair_mean)\n",
    "\n",
    "feature1 = 5\n",
    "feature2 = 4\n",
    "features = ['Peak Amplitude (V)','Trough Amplitude (V)', 'Peak to Peak Distance (Time)', \n",
    "            'Trough to Trough Distance (Time)', 'Peak to Trough Distance (Time)', 'Max FFT Value (Hz)']\n",
    "\n",
    "X1 = Features_model[:,feature1]\n",
    "X2 = Features_model[:,feature2]\n",
    "\n",
    "#Set Classifier and Fit the data\n",
    "clf = GaussianNB(priors=None)\n",
    "clf.fit(np.c_[X1,X2],Y_model)\n",
    "\n",
    "\n",
    "#Set up the steps in the grid mesh\n",
    "plot_step_x1 = (max(X1)-min(X1))/100\n",
    "plot_step_x2 = (max(X2)-min(X2))/100\n",
    "\n",
    "# Let's pre-compute the range for our features\n",
    "x1_min, x1_max = X1.min(), X1.max()\n",
    "x2_min, x2_max = X2.min(), X2.max()\n",
    "\n",
    "# And create a meshgrid so that we can create a countour plot on it\n",
    "xx1, xx2 = np.meshgrid(np.arange(x1_min, x1_max, plot_step_x1),\n",
    "                     np.arange(x2_min, x2_max, plot_step_x2))\n",
    "\n",
    "# Now we predict the values for all of the cells in the meshgrid\n",
    "Z = clf.predict(np.c_[xx1.ravel(), xx2.ravel()]) # If you're curious what this is, read here: https://docs.scipy.org/doc/numpy/reference/generated/numpy.c_.html and https://docs.scipy.org/doc/numpy/reference/generated/numpy.ravel.html\n",
    "\n",
    "# And we reshape those results to have the same shape as the mesh\n",
    "Z = Z.reshape(xx1.shape)\n",
    "\n",
    "# Now we can finally contour-plot, using a specific colormap\n",
    "cs = plt.contourf(xx1, xx2, Z, cmap=plt.cm.coolwarm)\n",
    "\n",
    "plt.xlabel(features[feature1])\n",
    "plt.ylabel(features[feature2])\n",
    "plt.axis(\"tight\")\n",
    "\n",
    "# Plot also the training points\n",
    "plt.scatter(X1, X2, c=Y_model, cmap=plt.cm.coolwarm)\n",
    "\n",
    "plt.suptitle(\"Gaussian Naive Bayes Classification of Mean Chair Data\")\n",
    "plt.legend()\n",
    "plt.show()"
   ]
  },
  {
   "cell_type": "code",
   "execution_count": null,
   "metadata": {
    "collapsed": true
   },
   "outputs": [],
   "source": []
  }
 ],
 "metadata": {
  "anaconda-cloud": {},
  "kernelspec": {
   "display_name": "Python 3",
   "language": "python",
   "name": "python3"
  },
  "language_info": {
   "codemirror_mode": {
    "name": "ipython",
    "version": 3
   },
   "file_extension": ".py",
   "mimetype": "text/x-python",
   "name": "python",
   "nbconvert_exporter": "python",
   "pygments_lexer": "ipython3",
   "version": "3.6.0"
  }
 },
 "nbformat": 4,
 "nbformat_minor": 1
}
