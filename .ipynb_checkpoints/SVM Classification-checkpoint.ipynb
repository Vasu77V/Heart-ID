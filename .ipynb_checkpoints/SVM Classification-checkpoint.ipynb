{
 "cells": [
  {
   "cell_type": "code",
   "execution_count": 2,
   "metadata": {
    "collapsed": true
   },
   "outputs": [],
   "source": [
    "import pickle\n",
    "\n",
    "X_chair = pickle.load(open(\"X_chair.p\",\"rb\"))\n",
    "Y_chair = pickle.load(open(\"Y_chair.p\",\"rb\"))\n",
    "X_chair_median = pickle.load(open(\"X_median_chair.p\",\"rb\"))\n",
    "Y_chair_median = pickle.load(open(\"Y_median_chair.p\",\"rb\"))\n",
    "X_chair_mean = pickle.load(open(\"X_mean_chair.p\",\"rb\"))\n",
    "Y_chair_mean = pickle.load(open(\"Y_mean_chair.p\",\"rb\"))\n",
    "\n",
    "X_Neck = pickle.load(open(\"X_Neck.p\",\"rb\"))\n",
    "Y_Neck = pickle.load(open(\"Y_Neck.p\",\"rb\"))\n",
    "X_Neck_median = pickle.load(open(\"X_median_Neck.p\",\"rb\"))\n",
    "Y_Neck_median = pickle.load(open(\"Y_median_Neck.p\",\"rb\"))\n",
    "X_Neck_mean = pickle.load(open(\"X_mean_Neck.p\",\"rb\"))\n",
    "Y_Neck_mean = pickle.load(open(\"Y_mean_Neck.p\",\"rb\"))\n"
   ]
  },
  {
   "cell_type": "code",
   "execution_count": 3,
   "metadata": {
    "collapsed": true
   },
   "outputs": [],
   "source": [
    "import numpy as np\n",
    "import pandas as pd\n",
    "from sklearn.svm import SVC\n",
    "from sklearn import tree\n",
    "from sklearn.model_selection import train_test_split, KFold\n",
    "import matplotlib.pyplot as plt\n",
    "from sklearn.model_selection import GridSearchCV\n"
   ]
  },
  {
   "cell_type": "code",
   "execution_count": null,
   "metadata": {
    "collapsed": true
   },
   "outputs": [],
   "source": [
    "#Classifying all chair data with [Aravind, Isabella, Kim, Lobna, Thomas, Anand, Vasu]\n",
    "\n",
    "#Define Dataset\n",
    "X = np.array(X_chair)\n",
    "Y = np.array(Y_chair)\n",
    "\n",
    "# #Define parameters to optimize\n",
    "# tuned_parameters = [{'C':[1.0,1.5,2.0]}]\n",
    "#                      #'kernel':['linear','poly','rbf','sigmoid']}]\n",
    "#                      #'shrinking':[True,False], \n",
    "#                      #'verbose':[True,False],\n",
    "#                      #'decision_function_shape':['ovo','ovr',None]}]\n",
    "\n",
    "# #Set the Classifier fit and tune parameters\n",
    "# svc = SVC()\n",
    "# clf = GridSearchCV(svc,tuned_parameters)\n",
    "# clf.fit(X, Y)\n",
    "\n",
    "# BP = clf.best_params_\n",
    "\n",
    "#K-fold cross validation with the optimized parameters\n",
    "for k in range(24):\n",
    "    clf1 = SVC(tol = 1e-4,\n",
    "               #C=BP['C'],\n",
    "               kernel = 'linear')\n",
    "               #kernel=BP['kernel'])\n",
    "               #shrinking=BP['shrinking'],\n",
    "               #verbose=BP['verbose'],\n",
    "            #decision_function_shape=BP['decision_function_shape'])\n",
    "    kf = KFold(n_splits=k+2)\n",
    "    kf_scores = [clf1.fit(X[train], Y[train]).score(X[test], Y[test]) for train, test in kf.split(X)]\n",
    "    kf_scores_mean = np.mean(kf_scores)\n",
    "    \n",
    "    print('K = '+str(k+2))\n",
    "    print('KF_scores_array')\n",
    "    print(kf_scores)\n",
    "    print('  ')\n",
    "    print('KF_scores_mean')\n",
    "    print(kf_scores_mean)\n",
    "    print('  ')\n",
    "    print('  ')\n",
    "\n",
    "#print(BP)\n",
    "print(clf1.feature_importances_)"
   ]
  },
  {
   "cell_type": "code",
   "execution_count": null,
   "metadata": {
    "collapsed": true
   },
   "outputs": [],
   "source": []
  }
 ],
 "metadata": {
  "anaconda-cloud": {},
  "kernelspec": {
   "display_name": "Python [conda root]",
   "language": "python",
   "name": "conda-root-py"
  },
  "language_info": {
   "codemirror_mode": {
    "name": "ipython",
    "version": 3
   },
   "file_extension": ".py",
   "mimetype": "text/x-python",
   "name": "python",
   "nbconvert_exporter": "python",
   "pygments_lexer": "ipython3",
   "version": "3.5.2"
  }
 },
 "nbformat": 4,
 "nbformat_minor": 1
}
