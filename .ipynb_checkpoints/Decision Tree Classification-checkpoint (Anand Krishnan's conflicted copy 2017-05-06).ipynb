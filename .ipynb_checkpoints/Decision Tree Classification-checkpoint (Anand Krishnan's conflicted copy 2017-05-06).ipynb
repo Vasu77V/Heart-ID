{
 "cells": [
  {
   "cell_type": "code",
   "execution_count": 2,
   "metadata": {
    "collapsed": true
   },
   "outputs": [],
   "source": [
    "import pickle\n",
    "\n",
    "X_chair = pickle.load(open(\"X_chair.p\",\"rb\"))\n",
    "Y_chair = pickle.load(open(\"Y_chair.p\",\"rb\"))\n",
    "X_chair_median = pickle.load(open(\"X_median_chair.p\",\"rb\"))\n",
    "Y_chair_median = pickle.load(open(\"Y_median_chair.p\",\"rb\"))\n",
    "X_chair_mean = pickle.load(open(\"X_mean_chair.p\",\"rb\"))\n",
    "Y_chair_mean = pickle.load(open(\"Y_mean_chair.p\",\"rb\"))\n",
    "\n",
    "X_Neck = pickle.load(open(\"X_Neck.p\",\"rb\"))\n",
    "Y_Neck = pickle.load(open(\"Y_Neck.p\",\"rb\"))\n",
    "X_Neck_median = pickle.load(open(\"X_median_Neck.p\",\"rb\"))\n",
    "Y_Neck_median = pickle.load(open(\"Y_median_Neck.p\",\"rb\"))\n",
    "X_Neck_mean = pickle.load(open(\"X_mean_Neck.p\",\"rb\"))\n",
    "Y_Neck_mean = pickle.load(open(\"Y_mean_Neck.p\",\"rb\"))\n"
   ]
  },
  {
   "cell_type": "code",
   "execution_count": 3,
   "metadata": {
    "collapsed": false
   },
   "outputs": [],
   "source": [
    "import numpy as np\n",
    "import pandas as pd\n",
    "from sklearn.svm import SVC\n",
    "from sklearn import tree\n",
    "from sklearn.model_selection import train_test_split\n",
    "from sklearn.model_selection import KFold\n",
    "from sklearn.metrics import confusion_matrix\n",
    "import matplotlib.pyplot as plt\n",
    "from sklearn.model_selection import GridSearchCV"
   ]
  },
  {
   "cell_type": "code",
   "execution_count": 8,
   "metadata": {
    "collapsed": false,
    "scrolled": true
   },
   "outputs": [
    {
     "name": "stdout",
     "output_type": "stream",
     "text": [
      "0.660185263355\n",
      "  \n",
      "  \n"
     ]
    }
   ],
   "source": [
    "#Classifying all chair data with [Aravind, Isabella, Kim, Lobna, Thomas, Anand, Vasu]\n",
    "import random\n",
    "\n",
    "#Define Dataset\n",
    "X = np.array(X_chair)\n",
    "Y = np.array(Y_chair)\n",
    "\n",
    "#Define parameters to optimize\n",
    "tuned_parameters = [{'max_depth': [3,4,5,6,7,8,9,10,11,12,13], 'class_weight': ['balanced',None],\n",
    "                     'presort':[True,False],'criterion': ['gini','entropy'], 'splitter':['random','best'],\n",
    "                     'max_features':[1,2,3,4,5,6]}]\n",
    "\n",
    "# Set the Classifier fit and tune parameters\n",
    "dtc = tree.DecisionTreeClassifier()\n",
    "clf = GridSearchCV(dtc,tuned_parameters)\n",
    "clf.fit(X, Y)\n",
    "\n",
    "BP = clf.best_params_\n",
    "\n",
    "#K-fold cross validation with the optimized parameters\n",
    "\n",
    "for k in range(18,19):\n",
    "    clf1 = tree.DecisionTreeClassifier(class_weight=BP['class_weight'],\n",
    "                                       criterion=BP['criterion'],\n",
    "                                       max_depth=BP['max_depth'],\n",
    "                                       max_features=BP['max_features'],\n",
    "                                       presort=BP['presort'],\n",
    "                                       splitter=BP['splitter'])\n",
    "    kf = KFold(n_splits=k+2)\n",
    "    sc = []\n",
    "    for it in range(5):\n",
    "        combined = list(zip(X, Y))\n",
    "        random.shuffle(combined)\n",
    "\n",
    "        X_shuffled, Y_shuffled = zip(*combined)\n",
    "        X_shuffled = np.array(X_shuffled)\n",
    "        Y_shuffled = np.array(Y_shuffled)\n",
    "        kf_scores = [clf1.fit(X_shuffled[train], Y_shuffled[train]).score(X_shuffled[test], Y_shuffled[test]) for train, test in kf.split(X)]\n",
    "        kf_scores_mean = np.mean(kf_scores)\n",
    "        sc.append(kf_scores_mean)\n",
    "    \n",
    "    \n",
    "#     print('K = '+str(k+2))\n",
    "#     print('KF_scores_array')\n",
    "#     print(kf_scores)\n",
    "#     print('  ')\n",
    "#     print('KF_scores_mean')\n",
    "    print(np.mean(sc))\n",
    "    print('  ')\n",
    "    print('  ')\n",
    "\n",
    "# print(BP)\n",
    "# print(clf1.feature_importances_)"
   ]
  },
  {
   "cell_type": "code",
   "execution_count": 9,
   "metadata": {
    "collapsed": false
   },
   "outputs": [
    {
     "name": "stdout",
     "output_type": "stream",
     "text": [
      "0.841666666667\n",
      "  \n",
      "  \n",
      "{'class_weight': None, 'criterion': 'entropy', 'max_depth': 11, 'max_features': 5, 'presort': False, 'splitter': 'random'}\n",
      "[ 0.          0.20555138  0.08431913  0.2260382   0.36900703  0.11508426]\n"
     ]
    }
   ],
   "source": [
    "#Classifying mean chair data with [Aravind, Isabella, Kim, Lobna, Thomas, Anand, Vasu]\n",
    "\n",
    "#Define Dataset\n",
    "X = np.array(X_chair_mean)\n",
    "Y = np.array(Y_chair_mean)\n",
    "\n",
    "#Define parameters to optimize\n",
    "tuned_parameters = [{'max_depth': [3,4,5,6,7,8,9,10,11,12,13], 'class_weight': ['balanced',None],\n",
    "                     'presort':[True,False],'criterion': ['gini','entropy'], 'splitter':['random','best'],\n",
    "                     'max_features':[1,2,3,4,5,6]}]\n",
    "\n",
    "#Set the Classifier fit and tune parameters\n",
    "dtc = tree.DecisionTreeClassifier()\n",
    "clf = GridSearchCV(dtc,tuned_parameters)\n",
    "clf.fit(X, Y)\n",
    "\n",
    "BP = clf.best_params_\n",
    "\n",
    "#K-fold cross validation with the optimized parameters\n",
    "for k in range(18,19):\n",
    "    clf1 = tree.DecisionTreeClassifier(class_weight=BP['class_weight'],\n",
    "                                       criterion=BP['criterion'],\n",
    "                                       max_depth=BP['max_depth'],\n",
    "                                       max_features=BP['max_features'],\n",
    "                                       presort=BP['presort'],\n",
    "                                       splitter=BP['splitter'])\n",
    "    kf = KFold(n_splits=k+2)\n",
    "    sc = []\n",
    "    for it in range(5):\n",
    "        combined = list(zip(X, Y))\n",
    "        random.shuffle(combined)\n",
    "\n",
    "        X_shuffled, Y_shuffled = zip(*combined)\n",
    "        X_shuffled = np.array(X_shuffled)\n",
    "        Y_shuffled = np.array(Y_shuffled)\n",
    "        kf_scores = [clf1.fit(X_shuffled[train], Y_shuffled[train]).score(X_shuffled[test], Y_shuffled[test]) for train, test in kf.split(X)]\n",
    "        kf_scores_mean = np.mean(kf_scores)\n",
    "        sc.append(kf_scores_mean)\n",
    "    \n",
    "    \n",
    "#     print('K = '+str(k+2))\n",
    "#     print('KF_scores_array')\n",
    "#     print(kf_scores)\n",
    "#     print('  ')\n",
    "#     print('KF_scores_mean')\n",
    "    print(np.mean(sc))\n",
    "    print('  ')\n",
    "    print('  ')\n",
    "\n",
    "\n",
    "print(BP)\n",
    "print(clf1.feature_importances_)"
   ]
  },
  {
   "cell_type": "code",
   "execution_count": 11,
   "metadata": {
    "collapsed": false
   },
   "outputs": [
    {
     "name": "stdout",
     "output_type": "stream",
     "text": [
      "0.765\n",
      "  \n",
      "  \n",
      "0.728571428571\n",
      "  \n",
      "  \n",
      "0.707575757576\n",
      "  \n",
      "  \n",
      "{'class_weight': None, 'criterion': 'gini', 'max_depth': 8, 'max_features': 4, 'presort': True, 'splitter': 'random'}\n",
      "[ 0.12306349  0.39752925  0.18578455  0.11566876  0.05794066  0.1200133 ]\n"
     ]
    }
   ],
   "source": [
    "#Classifying median chair data with [Aravind, Isabella, Kim, Lobna, Thomas, Anand, Vasu]\n",
    "\n",
    "#Define Dataset\n",
    "X = np.array(X_chair_median)\n",
    "Y = np.array(Y_chair_median)\n",
    "\n",
    "#Define parameters to optimize\n",
    "tuned_parameters = [{'max_depth': [3,4,5,6,7,8,9,10,11,12,13], 'class_weight': ['balanced',None],\n",
    "                     'presort':[True,False],'criterion': ['gini','entropy'], 'splitter':['random','best'],\n",
    "                     'max_features':[1,2,3,4,5,6]}]\n",
    "\n",
    "#Set the Classifier fit and tune parameters\n",
    "dtc = tree.DecisionTreeClassifier()\n",
    "clf = GridSearchCV(dtc,tuned_parameters)\n",
    "clf.fit(X, Y)\n",
    "\n",
    "BP = clf.best_params_\n",
    "\n",
    "#K-fold cross validation with the optimized parameters\n",
    "for k in range(18,21):\n",
    "    clf1 = tree.DecisionTreeClassifier(class_weight=BP['class_weight'],\n",
    "                                       criterion=BP['criterion'],\n",
    "                                       max_depth=BP['max_depth'],\n",
    "                                       max_features=BP['max_features'],\n",
    "                                       presort=BP['presort'],\n",
    "                                       splitter=BP['splitter'])\n",
    "    kf = KFold(n_splits=k+2)\n",
    "#     kf_scores = [clf1.fit(X[train], Y[train]).score(X[test], Y[test]) for train, test in kf.split(X)]\n",
    "    sc = []\n",
    "    for it in range(5):\n",
    "        combined = list(zip(X, Y))\n",
    "        random.shuffle(combined)\n",
    "\n",
    "        X_shuffled, Y_shuffled = zip(*combined)\n",
    "        X_shuffled = np.array(X_shuffled)\n",
    "        Y_shuffled = np.array(Y_shuffled)\n",
    "        kf_scores = [clf1.fit(X_shuffled[train], Y_shuffled[train]).score(X_shuffled[test], Y_shuffled[test]) for train, test in kf.split(X)]\n",
    "        kf_scores_mean = np.mean(kf_scores)\n",
    "        sc.append(kf_scores_mean)\n",
    "    \n",
    "    \n",
    "#     print('K = '+str(k+2))\n",
    "#     print('KF_scores_array')\n",
    "#     print(kf_scores)\n",
    "#     print('  ')\n",
    "#     print('KF_scores_mean')\n",
    "    print(np.mean(sc))\n",
    "    print('  ')\n",
    "    print('  ')\n",
    "\n",
    "print(BP)\n",
    "print(clf1.feature_importances_)"
   ]
  },
  {
   "cell_type": "code",
   "execution_count": 13,
   "metadata": {
    "collapsed": false
   },
   "outputs": [
    {
     "name": "stdout",
     "output_type": "stream",
     "text": [
      "0.766416256158\n",
      "  \n",
      "  \n",
      "{'class_weight': None, 'criterion': 'gini', 'max_depth': 13, 'max_features': 5, 'presort': False, 'splitter': 'best'}\n",
      "[ 0.1915105   0.10392292  0.04301377  0.06042375  0.07924926  0.10414253\n",
      "  0.11878892  0.29894835]\n"
     ]
    }
   ],
   "source": [
    "#Classifying all Neck data with [Aravind, Isabella, Kim, Lobna, Thomas, Anand, Vasu]\n",
    "\n",
    "#Define Dataset\n",
    "X = np.array(X_Neck)\n",
    "Y = np.array(Y_Neck)\n",
    "\n",
    "#Define parameters to optimize\n",
    "tuned_parameters = [{'max_depth': [3,4,5,6,7,8,9,10,11,12,13], 'class_weight': ['balanced',None],\n",
    "                     'presort':[True,False],'criterion': ['gini','entropy'], 'splitter':['random','best'],\n",
    "                     'max_features':[1,2,3,4,5,6]}]\n",
    "\n",
    "#Set the Classifier fit and tune parameters\n",
    "dtc = tree.DecisionTreeClassifier()\n",
    "clf = GridSearchCV(dtc,tuned_parameters)\n",
    "clf.fit(X, Y)\n",
    "\n",
    "BP = clf.best_params_\n",
    "\n",
    "#K-fold cross validation with the optimized parameters\n",
    "for k in range(18,19):\n",
    "    clf1 = tree.DecisionTreeClassifier(class_weight=BP['class_weight'],\n",
    "                                       criterion=BP['criterion'],\n",
    "                                       max_depth=BP['max_depth'],\n",
    "                                       max_features=BP['max_features'],\n",
    "                                       presort=BP['presort'],\n",
    "                                       splitter=BP['splitter'])\n",
    "    kf = KFold(n_splits=k+2)\n",
    "#     kf_scores = [clf1.fit(X[train], Y[train]).score(X[test], Y[test]) for train, test in kf.split(X)]\n",
    "    sc = []\n",
    "    for it in range(5):\n",
    "        combined = list(zip(X, Y))\n",
    "        random.shuffle(combined)\n",
    "\n",
    "        X_shuffled, Y_shuffled = zip(*combined)\n",
    "        X_shuffled = np.array(X_shuffled)\n",
    "        Y_shuffled = np.array(Y_shuffled)\n",
    "        kf_scores = [clf1.fit(X_shuffled[train], Y_shuffled[train]).score(X_shuffled[test], Y_shuffled[test]) for train, test in kf.split(X)]\n",
    "        kf_scores_mean = np.mean(kf_scores)\n",
    "        sc.append(kf_scores_mean)\n",
    "    \n",
    "    \n",
    "#     print('K = '+str(k+2))\n",
    "#     print('KF_scores_array')\n",
    "#     print(kf_scores)\n",
    "#     print('  ')\n",
    "#     print('KF_scores_mean')\n",
    "    print(np.mean(sc))\n",
    "    print('  ')\n",
    "    print('  ')\n",
    "\n",
    "print(BP)\n",
    "print(clf1.feature_importances_)"
   ]
  },
  {
   "cell_type": "code",
   "execution_count": 14,
   "metadata": {
    "collapsed": false
   },
   "outputs": [
    {
     "name": "stdout",
     "output_type": "stream",
     "text": [
      "0.686666666667\n",
      "  \n",
      "  \n",
      "{'class_weight': 'balanced', 'criterion': 'gini', 'max_depth': 6, 'max_features': 6, 'presort': True, 'splitter': 'best'}\n",
      "[ 0.31503268  0.18454106  0.          0.2037037   0.22022283  0.07649972\n",
      "  0.          0.        ]\n"
     ]
    }
   ],
   "source": [
    "#Classifying mean Neck data with [Aravind, Isabella, Kim, Lobna, Thomas, Anand, Vasu]\n",
    "\n",
    "#Define Dataset\n",
    "X = np.array(X_Neck_mean)\n",
    "Y = np.array(Y_Neck_mean)\n",
    "\n",
    "#Define parameters to optimize\n",
    "tuned_parameters = [{'max_depth': [3,4,5,6,7,8,9,10,11,12,13], 'class_weight': ['balanced',None],\n",
    "                     'presort':[True,False],'criterion': ['gini','entropy'], 'splitter':['random','best'],\n",
    "                     'max_features':[1,2,3,4,5,6]}]\n",
    "\n",
    "#Set the Classifier fit and tune parameters\n",
    "dtc = tree.DecisionTreeClassifier()\n",
    "clf = GridSearchCV(dtc,tuned_parameters)\n",
    "clf.fit(X, Y)\n",
    "\n",
    "BP = clf.best_params_\n",
    "\n",
    "#K-fold cross validation with the optimized parameters\n",
    "for k in range(18,19):\n",
    "    clf1 = tree.DecisionTreeClassifier(class_weight=BP['class_weight'],\n",
    "                                       criterion=BP['criterion'],\n",
    "                                       max_depth=BP['max_depth'],\n",
    "                                       max_features=BP['max_features'],\n",
    "                                       presort=BP['presort'],\n",
    "                                       splitter=BP['splitter'])\n",
    "    kf = KFold(n_splits=k+2)\n",
    "#     kf_scores = [clf1.fit(X[train], Y[train]).score(X[test], Y[test]) for train, test in kf.split(X)]\n",
    "    sc = []\n",
    "    for it in range(5):\n",
    "        combined = list(zip(X, Y))\n",
    "        random.shuffle(combined)\n",
    "\n",
    "        X_shuffled, Y_shuffled = zip(*combined)\n",
    "        X_shuffled = np.array(X_shuffled)\n",
    "        Y_shuffled = np.array(Y_shuffled)\n",
    "        kf_scores = [clf1.fit(X_shuffled[train], Y_shuffled[train]).score(X_shuffled[test], Y_shuffled[test]) for train, test in kf.split(X)]\n",
    "        kf_scores_mean = np.mean(kf_scores)\n",
    "        sc.append(kf_scores_mean)\n",
    "    \n",
    "    \n",
    "#     print('K = '+str(k+2))\n",
    "#     print('KF_scores_array')\n",
    "#     print(kf_scores)\n",
    "#     print('  ')\n",
    "#     print('KF_scores_mean')\n",
    "    print(np.mean(sc))\n",
    "    print('  ')\n",
    "    print('  ')\n",
    "\n",
    "print(BP)\n",
    "print(clf1.feature_importances_)"
   ]
  },
  {
   "cell_type": "code",
   "execution_count": 15,
   "metadata": {
    "collapsed": false,
    "scrolled": true
   },
   "outputs": [
    {
     "name": "stdout",
     "output_type": "stream",
     "text": [
      "0.62\n",
      "  \n",
      "  \n",
      "{'class_weight': None, 'criterion': 'entropy', 'max_depth': 11, 'max_features': 5, 'presort': True, 'splitter': 'random'}\n",
      "[ 0.45766503  0.24231056  0.1040916   0.04734238  0.06794858  0.02138128\n",
      "  0.          0.05926056]\n"
     ]
    }
   ],
   "source": [
    "#Classifying median Neck data with [Aravind, Isabella, Kim, Lobna, Thomas, Anand, Vasu]\n",
    "\n",
    "#Define Dataset\n",
    "X = np.array(X_Neck_median)\n",
    "Y = np.array(Y_Neck_median)\n",
    "\n",
    "#Define parameters to optimize\n",
    "tuned_parameters = [{'max_depth': [3,4,5,6,7,8,9,10,11,12,13], 'class_weight': ['balanced',None],\n",
    "                     'presort':[True,False],'criterion': ['gini','entropy'], 'splitter':['random','best'],\n",
    "                     'max_features':[1,2,3,4,5,6]}]\n",
    "\n",
    "#Set the Classifier fit and tune parameters\n",
    "dtc = tree.DecisionTreeClassifier()\n",
    "clf = GridSearchCV(dtc,tuned_parameters)\n",
    "clf.fit(X, Y)\n",
    "\n",
    "BP = clf.best_params_\n",
    "\n",
    "#K-fold cross validation with the optimized parameters\n",
    "for k in range(18,19):\n",
    "    clf1 = tree.DecisionTreeClassifier(class_weight=BP['class_weight'],\n",
    "                                       criterion=BP['criterion'],\n",
    "                                       max_depth=BP['max_depth'],\n",
    "                                       max_features=BP['max_features'],\n",
    "                                       presort=BP['presort'],\n",
    "                                       splitter=BP['splitter'])\n",
    "    kf = KFold(n_splits=k+2)\n",
    "#     kf_scores = [clf1.fit(X[train], Y[train]).score(X[test], Y[test]) for train, test in kf.split(X)]\n",
    "    sc = []\n",
    "    for it in range(5):\n",
    "        combined = list(zip(X, Y))\n",
    "        random.shuffle(combined)\n",
    "\n",
    "        X_shuffled, Y_shuffled = zip(*combined)\n",
    "        X_shuffled = np.array(X_shuffled)\n",
    "        Y_shuffled = np.array(Y_shuffled)\n",
    "        kf_scores = [clf1.fit(X_shuffled[train], Y_shuffled[train]).score(X_shuffled[test], Y_shuffled[test]) for train, test in kf.split(X)]\n",
    "        kf_scores_mean = np.mean(kf_scores)\n",
    "        sc.append(kf_scores_mean)\n",
    "    \n",
    "    \n",
    "#     print('K = '+str(k+2))\n",
    "#     print('KF_scores_array')\n",
    "#     print(kf_scores)\n",
    "#     print('  ')\n",
    "#     print('KF_scores_mean')\n",
    "    print(np.mean(sc))\n",
    "    print('  ')\n",
    "    print('  ')\n",
    "\n",
    "print(BP)\n",
    "print(clf1.feature_importances_)"
   ]
  },
  {
   "cell_type": "code",
   "execution_count": 16,
   "metadata": {
    "collapsed": false
   },
   "outputs": [
    {
     "data": {
      "image/png": "[encoded data removed]",
      "text/plain": [
       "<matplotlib.figure.Figure at 0x10bb2e6a0>"
      ]
     },
     "metadata": {},
     "output_type": "display_data"
    }
   ],
   "source": [
    "#Plotting mean chair data with [Aravind, Isabella, Kim, Lobna, Thomas, Anand, Vasu]\n",
    "\n",
    "#Set up Prediction Model\n",
    "#Set the feature values and the output values\n",
    "Features_model = np.array(X_chair_mean)\n",
    "Y_model = np.array(Y_chair_mean)\n",
    "\n",
    "feature1 = 5\n",
    "feature2 = 4\n",
    "features = ['Peak Amplitude (V)','Trough Amplitude (V)', 'Peak to Peak Distance (Time)', \n",
    "            'Trough to Trough Distance (Time)', 'Peak to Trough Distance (Time)', 'Max FFT Value (Hz)']\n",
    "\n",
    "X1 = Features_model[:,feature1]\n",
    "X2 = Features_model[:,feature2]\n",
    "\n",
    "#Optimizing Parameters\n",
    "#Define Dataset\n",
    "X = np.array(X_chair_mean)\n",
    "Y = np.array(Y_chair_mean)\n",
    "\n",
    "#Define parameters to optimize\n",
    "tuned_parameters = [{'max_depth': [3,4,5,6,7,8,9,10,11,12,13], 'class_weight': ['balanced',None],\n",
    "                     'presort':[True,False],'criterion': ['gini','entropy'], 'splitter':['random','best']}]\n",
    "#                     'max_features':[1,2,3,4]}]\n",
    "\n",
    "#Set the Classifier fit and tune parameters\n",
    "dtc = tree.DecisionTreeClassifier()\n",
    "clf = GridSearchCV(dtc,tuned_parameters)\n",
    "clf.fit(X, Y)\n",
    "\n",
    "BP = clf.best_params_\n",
    "\n",
    "#Set Classifier and Fit the data\n",
    "clf1 = tree.DecisionTreeClassifier(class_weight=BP['class_weight'],\n",
    "                                   criterion=BP['criterion'],\n",
    "                                   max_depth=BP['max_depth'],\n",
    "#                                   max_features=BP['max_features'],\n",
    "                                   presort=BP['presort'],\n",
    "                                   splitter=BP['splitter'])\n",
    "clf1.fit(np.c_[X1,X2],Y_model)\n",
    "\n",
    "\n",
    "#Set up the steps in the grid mesh\n",
    "plot_step_x1 = (max(X1)-min(X1))/100\n",
    "plot_step_x2 = (max(X2)-min(X2))/100\n",
    "\n",
    "# Let's pre-compute the range for our features\n",
    "x1_min, x1_max = X1.min(), X1.max()\n",
    "x2_min, x2_max = X2.min(), X2.max()\n",
    "\n",
    "# And create a meshgrid so that we can create a countour plot on it\n",
    "xx1, xx2 = np.meshgrid(np.arange(x1_min, x1_max, plot_step_x1),\n",
    "                     np.arange(x2_min, x2_max, plot_step_x2))\n",
    "\n",
    "# Now we predict the values for all of the cells in the meshgrid\n",
    "Z = clf1.predict(np.c_[xx1.ravel(), xx2.ravel()]) # If you're curious what this is, read here: https://docs.scipy.org/doc/numpy/reference/generated/numpy.c_.html and https://docs.scipy.org/doc/numpy/reference/generated/numpy.ravel.html\n",
    "\n",
    "# And we reshape those results to have the same shape as the mesh\n",
    "Z = Z.reshape(xx1.shape)\n",
    "\n",
    "# Now we can finally contour-plot, using a specific colormap\n",
    "cs = plt.contourf(xx1, xx2, Z, cmap=plt.cm.coolwarm)\n",
    "\n",
    "plt.xlabel(features[feature1])\n",
    "plt.ylabel(features[feature2])\n",
    "plt.axis(\"tight\")\n",
    "\n",
    "# Plot also the training points\n",
    "plt.scatter(X1, X2, c=Y_model, cmap=plt.cm.coolwarm)\n",
    "\n",
    "plt.suptitle(\"Decision Tree Classification of Mean Chair Data\")\n",
    "plt.show()\n"
   ]
  },
  {
   "cell_type": "code",
   "execution_count": 17,
   "metadata": {
    "collapsed": false
   },
   "outputs": [
    {
     "data": {
      "text/plain": [
       "58"
      ]
     },
     "execution_count": 17,
     "metadata": {},
     "output_type": "execute_result"
    }
   ],
   "source": [
    "len(X_chair_mean)"
   ]
  },
  {
   "cell_type": "code",
   "execution_count": null,
   "metadata": {
    "collapsed": true
   },
   "outputs": [],
   "source": []
  }
 ],
 "metadata": {
  "anaconda-cloud": {},
  "kernelspec": {
   "display_name": "Python 3",
   "language": "python",
   "name": "python3"
  },
  "language_info": {
   "codemirror_mode": {
    "name": "ipython",
    "version": 3
   },
   "file_extension": ".py",
   "mimetype": "text/x-python",
   "name": "python",
   "nbconvert_exporter": "python",
   "pygments_lexer": "ipython3",
   "version": "3.6.0"
  }
 },
 "nbformat": 4,
 "nbformat_minor": 2
}
